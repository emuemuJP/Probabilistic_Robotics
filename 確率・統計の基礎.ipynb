{
 "cells": [
  {
   "cell_type": "code",
   "execution_count": 5,
   "metadata": {},
   "outputs": [
    {
     "data": {
      "text/html": [
       "<div>\n",
       "<style scoped>\n",
       "    .dataframe tbody tr th:only-of-type {\n",
       "        vertical-align: middle;\n",
       "    }\n",
       "\n",
       "    .dataframe tbody tr th {\n",
       "        vertical-align: top;\n",
       "    }\n",
       "\n",
       "    .dataframe thead th {\n",
       "        text-align: right;\n",
       "    }\n",
       "</style>\n",
       "<table border=\"1\" class=\"dataframe\">\n",
       "  <thead>\n",
       "    <tr style=\"text-align: right;\">\n",
       "      <th></th>\n",
       "      <th>date</th>\n",
       "      <th>time</th>\n",
       "      <th>ir</th>\n",
       "      <th>lidar</th>\n",
       "    </tr>\n",
       "  </thead>\n",
       "  <tbody>\n",
       "    <tr>\n",
       "      <th>0</th>\n",
       "      <td>20180122</td>\n",
       "      <td>95819</td>\n",
       "      <td>305</td>\n",
       "      <td>214</td>\n",
       "    </tr>\n",
       "    <tr>\n",
       "      <th>1</th>\n",
       "      <td>20180122</td>\n",
       "      <td>95822</td>\n",
       "      <td>299</td>\n",
       "      <td>211</td>\n",
       "    </tr>\n",
       "    <tr>\n",
       "      <th>2</th>\n",
       "      <td>20180122</td>\n",
       "      <td>95826</td>\n",
       "      <td>292</td>\n",
       "      <td>199</td>\n",
       "    </tr>\n",
       "    <tr>\n",
       "      <th>3</th>\n",
       "      <td>20180122</td>\n",
       "      <td>95829</td>\n",
       "      <td>321</td>\n",
       "      <td>208</td>\n",
       "    </tr>\n",
       "    <tr>\n",
       "      <th>4</th>\n",
       "      <td>20180122</td>\n",
       "      <td>95832</td>\n",
       "      <td>298</td>\n",
       "      <td>212</td>\n",
       "    </tr>\n",
       "    <tr>\n",
       "      <th>...</th>\n",
       "      <td>...</td>\n",
       "      <td>...</td>\n",
       "      <td>...</td>\n",
       "      <td>...</td>\n",
       "    </tr>\n",
       "    <tr>\n",
       "      <th>58983</th>\n",
       "      <td>20180124</td>\n",
       "      <td>120023</td>\n",
       "      <td>313</td>\n",
       "      <td>208</td>\n",
       "    </tr>\n",
       "    <tr>\n",
       "      <th>58984</th>\n",
       "      <td>20180124</td>\n",
       "      <td>120026</td>\n",
       "      <td>297</td>\n",
       "      <td>200</td>\n",
       "    </tr>\n",
       "    <tr>\n",
       "      <th>58985</th>\n",
       "      <td>20180124</td>\n",
       "      <td>120030</td>\n",
       "      <td>323</td>\n",
       "      <td>204</td>\n",
       "    </tr>\n",
       "    <tr>\n",
       "      <th>58986</th>\n",
       "      <td>20180124</td>\n",
       "      <td>120033</td>\n",
       "      <td>326</td>\n",
       "      <td>207</td>\n",
       "    </tr>\n",
       "    <tr>\n",
       "      <th>58987</th>\n",
       "      <td>20180124</td>\n",
       "      <td>120036</td>\n",
       "      <td>321</td>\n",
       "      <td>208</td>\n",
       "    </tr>\n",
       "  </tbody>\n",
       "</table>\n",
       "<p>58988 rows × 4 columns</p>\n",
       "</div>"
      ],
      "text/plain": [
       "           date    time   ir  lidar\n",
       "0      20180122   95819  305    214\n",
       "1      20180122   95822  299    211\n",
       "2      20180122   95826  292    199\n",
       "3      20180122   95829  321    208\n",
       "4      20180122   95832  298    212\n",
       "...         ...     ...  ...    ...\n",
       "58983  20180124  120023  313    208\n",
       "58984  20180124  120026  297    200\n",
       "58985  20180124  120030  323    204\n",
       "58986  20180124  120033  326    207\n",
       "58987  20180124  120036  321    208\n",
       "\n",
       "[58988 rows x 4 columns]"
      ]
     },
     "execution_count": 5,
     "metadata": {},
     "output_type": "execute_result"
    }
   ],
   "source": [
    "import pandas as pd\n",
    "data = pd.read_csv(\"data/sensor_data_200.txt\", delimiter=\" \",\n",
    "                  header=None, names=(\"date\", \"time\", \"ir\", \"lidar\"))\n",
    "data"
   ]
  },
  {
   "cell_type": "code",
   "execution_count": 4,
   "metadata": {},
   "outputs": [],
   "source": [
    "import matplotlib.pyplot as plt"
   ]
  },
  {
   "cell_type": "code",
   "execution_count": 5,
   "metadata": {},
   "outputs": [
    {
     "data": {
      "image/png": "[encoded data removed]",
      "text/plain": [
       "<Figure size 432x288 with 1 Axes>"
      ]
     },
     "metadata": {
      "needs_background": "light"
     },
     "output_type": "display_data"
    }
   ],
   "source": [
    "data[\"lidar\"].hist(bins=max(data[\"lidar\"]) - min(data[\"lidar\"]),align=\"left\")\n",
    "plt.show()"
   ]
  },
  {
   "cell_type": "markdown",
   "metadata": {},
   "source": [
    "ロボットが全く動かない状態でもセンサ値は毎回違う\n",
    "センサ値の変動は$210[mm]\\pm10[mm]$くらいの範囲である。\n",
    "このような値の変動を雑音 (ノイズ)と呼ぶ。\n",
    "真の値とセンサ値の差を誤差と呼ぶ。\n",
    "雑音による誤差を特に偶然誤差(accidental error, random error)と呼ぶ。\n",
    "バイアスによって発生する定常的な誤差は系統誤差(systematic error)と呼ぶ。\n",
    "\n",
    "## 雑音の数値化\n",
    "\n",
    "センサ値の平均値、分散や標準偏差を求める。"
   ]
  },
  {
   "cell_type": "code",
   "execution_count": 7,
   "metadata": {},
   "outputs": [
    {
     "data": {
      "text/plain": [
       "209.73713297619855"
      ]
     },
     "execution_count": 7,
     "metadata": {},
     "output_type": "execute_result"
    }
   ],
   "source": [
    "data[\"lidar\"].mean()"
   ]
  },
  {
   "cell_type": "code",
   "execution_count": 10,
   "metadata": {},
   "outputs": [
    {
     "data": {
      "text/plain": [
       "209.73713297619855"
      ]
     },
     "execution_count": 10,
     "metadata": {},
     "output_type": "execute_result"
    }
   ],
   "source": [
    "sum(data[\"lidar\"].values) / len(data[\"lidar\"].values)"
   ]
  },
  {
   "cell_type": "code",
   "execution_count": 13,
   "metadata": {},
   "outputs": [
    {
     "data": {
      "text/plain": [
       "<matplotlib.collections.LineCollection at 0x116133a90>"
      ]
     },
     "execution_count": 13,
     "metadata": {},
     "output_type": "execute_result"
    },
    {
     "data": {
      "image/png": "[encoded data removed]",
      "text/plain": [
       "<Figure size 432x288 with 1 Axes>"
      ]
     },
     "metadata": {
      "needs_background": "light"
     },
     "output_type": "display_data"
    }
   ],
   "source": [
    "data[\"lidar\"].hist(bins=max(data[\"lidar\"]) - min(data[\"lidar\"]),align=\"left\")\n",
    "plt.vlines(data[\"lidar\"].mean(), ymin=0, ymax=5000, color=\"red\")"
   ]
  },
  {
   "cell_type": "markdown",
   "metadata": {},
   "source": [
    "分散には二種類が存在する。\n",
    "* 標本分散: 各値と平均値の差の二乗したもの\n",
    "* 不偏分散: 標本分散の割り算の分母がNではなくN-1となるもの\n",
    "標本分散と不偏分散ではNの値が小さいときに値が大きく異なり、標本分散の場合に本来よりも分散が小さくなってしまうことを防ぐ効果がある。"
   ]
  },
  {
   "cell_type": "code",
   "execution_count": 15,
   "metadata": {},
   "outputs": [
    {
     "name": "stdout",
     "output_type": "stream",
     "text": [
      "標本分散： 23.407709770274106 , 不偏分散： 23.40810659855441\n"
     ]
    }
   ],
   "source": [
    "zs = data[\"lidar\"].values\n",
    "mean = sum(zs) / len(zs)\n",
    "diff_square = [(z - mean)**2 for z in zs]\n",
    "\n",
    "# 標本分散\n",
    "sampling_var = sum(diff_square) / len(zs)\n",
    "# 不偏分散\n",
    "unbiased_var = sum(diff_square) / (len(zs) -1)\n",
    "\n",
    "print(\"標本分散：\", sampling_var, \", 不偏分散：\", unbiased_var)"
   ]
  },
  {
   "cell_type": "code",
   "execution_count": 16,
   "metadata": {},
   "outputs": [
    {
     "name": "stdout",
     "output_type": "stream",
     "text": [
      "pandasのデフォルトは不偏分散:  23.408106598554504 , 標本分散: 23.4077097702742\n"
     ]
    }
   ],
   "source": [
    "pandas_sampling_var = data[\"lidar\"].var(ddof=False)\n",
    "pandas_default_var = data[\"lidar\"].var()\n",
    "print(\"pandasのデフォルトは不偏分散: \", pandas_default_var, \", 標本分散:\", pandas_sampling_var)"
   ]
  },
  {
   "cell_type": "code",
   "execution_count": 18,
   "metadata": {},
   "outputs": [
    {
     "name": "stdout",
     "output_type": "stream",
     "text": [
      "Numpyのデフォルトは標本分散:  23.4077097702742 , 不偏分散: 23.408106598554504\n"
     ]
    }
   ],
   "source": [
    "import numpy as np\n",
    "numpy_default_var = np.var(data[\"lidar\"])\n",
    "numpy_unbiased_var = np.var(data[\"lidar\"], ddof=1)\n",
    "print(\"Numpyのデフォルトは標本分散: \", numpy_default_var, \", 不偏分散:\", numpy_unbiased_var)"
   ]
  },
  {
   "cell_type": "markdown",
   "metadata": {},
   "source": [
    "標準偏差は分散の正の平方根"
   ]
  },
  {
   "cell_type": "code",
   "execution_count": 20,
   "metadata": {},
   "outputs": [
    {
     "name": "stdout",
     "output_type": "stream",
     "text": [
      "標本分散の標準偏差: 4.838151482774605 不偏分散の標準偏差: 4.83819249292072\n"
     ]
    }
   ],
   "source": [
    "import math\n",
    "stddev1 = math.sqrt(sampling_var)\n",
    "stddev2 = math.sqrt(unbiased_var)\n",
    "print(\"標本分散の標準偏差:\", stddev1, \"不偏分散の標準偏差:\", stddev2)"
   ]
  },
  {
   "cell_type": "code",
   "execution_count": 23,
   "metadata": {},
   "outputs": [
    {
     "data": {
      "text/html": [
       "<div>\n",
       "<style scoped>\n",
       "    .dataframe tbody tr th:only-of-type {\n",
       "        vertical-align: middle;\n",
       "    }\n",
       "\n",
       "    .dataframe tbody tr th {\n",
       "        vertical-align: top;\n",
       "    }\n",
       "\n",
       "    .dataframe thead th {\n",
       "        text-align: right;\n",
       "    }\n",
       "</style>\n",
       "<table border=\"1\" class=\"dataframe\">\n",
       "  <thead>\n",
       "    <tr style=\"text-align: right;\">\n",
       "      <th></th>\n",
       "      <th>211</th>\n",
       "      <th>210</th>\n",
       "      <th>208</th>\n",
       "      <th>209</th>\n",
       "      <th>212</th>\n",
       "      <th>207</th>\n",
       "      <th>213</th>\n",
       "      <th>206</th>\n",
       "      <th>214</th>\n",
       "      <th>205</th>\n",
       "      <th>...</th>\n",
       "      <th>197</th>\n",
       "      <th>196</th>\n",
       "      <th>223</th>\n",
       "      <th>224</th>\n",
       "      <th>226</th>\n",
       "      <th>195</th>\n",
       "      <th>194</th>\n",
       "      <th>193</th>\n",
       "      <th>227</th>\n",
       "      <th>229</th>\n",
       "    </tr>\n",
       "  </thead>\n",
       "  <tbody>\n",
       "    <tr>\n",
       "      <th>lidar</th>\n",
       "      <td>4409</td>\n",
       "      <td>4355</td>\n",
       "      <td>4261</td>\n",
       "      <td>4228</td>\n",
       "      <td>4201</td>\n",
       "      <td>3920</td>\n",
       "      <td>3897</td>\n",
       "      <td>3674</td>\n",
       "      <td>3572</td>\n",
       "      <td>3225</td>\n",
       "      <td>...</td>\n",
       "      <td>84</td>\n",
       "      <td>59</td>\n",
       "      <td>55</td>\n",
       "      <td>32</td>\n",
       "      <td>15</td>\n",
       "      <td>13</td>\n",
       "      <td>10</td>\n",
       "      <td>4</td>\n",
       "      <td>3</td>\n",
       "      <td>1</td>\n",
       "    </tr>\n",
       "  </tbody>\n",
       "</table>\n",
       "<p>1 rows × 35 columns</p>\n",
       "</div>"
      ],
      "text/plain": [
       "        211   210   208   209   212   207   213   206   214   205  ...  197  \\\n",
       "lidar  4409  4355  4261  4228  4201  3920  3897  3674  3572  3225  ...   84   \n",
       "\n",
       "       196  223  224  226  195  194  193  227  229  \n",
       "lidar   59   55   32   15   13   10    4    3    1  \n",
       "\n",
       "[1 rows x 35 columns]"
      ]
     },
     "execution_count": 23,
     "metadata": {},
     "output_type": "execute_result"
    }
   ],
   "source": [
    "freqs = pd.DataFrame(data[\"lidar\"].value_counts())\n",
    "freqs.transpose()"
   ]
  },
  {
   "cell_type": "code",
   "execution_count": 24,
   "metadata": {},
   "outputs": [
    {
     "data": {
      "text/html": [
       "<div>\n",
       "<style scoped>\n",
       "    .dataframe tbody tr th:only-of-type {\n",
       "        vertical-align: middle;\n",
       "    }\n",
       "\n",
       "    .dataframe tbody tr th {\n",
       "        vertical-align: top;\n",
       "    }\n",
       "\n",
       "    .dataframe thead th {\n",
       "        text-align: right;\n",
       "    }\n",
       "</style>\n",
       "<table border=\"1\" class=\"dataframe\">\n",
       "  <thead>\n",
       "    <tr style=\"text-align: right;\">\n",
       "      <th></th>\n",
       "      <th>211</th>\n",
       "      <th>210</th>\n",
       "      <th>208</th>\n",
       "      <th>209</th>\n",
       "      <th>212</th>\n",
       "      <th>207</th>\n",
       "      <th>213</th>\n",
       "      <th>206</th>\n",
       "      <th>214</th>\n",
       "      <th>205</th>\n",
       "      <th>...</th>\n",
       "      <th>197</th>\n",
       "      <th>196</th>\n",
       "      <th>223</th>\n",
       "      <th>224</th>\n",
       "      <th>226</th>\n",
       "      <th>195</th>\n",
       "      <th>194</th>\n",
       "      <th>193</th>\n",
       "      <th>227</th>\n",
       "      <th>229</th>\n",
       "    </tr>\n",
       "  </thead>\n",
       "  <tbody>\n",
       "    <tr>\n",
       "      <th>lidar</th>\n",
       "      <td>4409.000000</td>\n",
       "      <td>4355.000000</td>\n",
       "      <td>4261.000000</td>\n",
       "      <td>4228.000000</td>\n",
       "      <td>4201.000000</td>\n",
       "      <td>3920.000000</td>\n",
       "      <td>3897.000000</td>\n",
       "      <td>3674.000000</td>\n",
       "      <td>3572.000000</td>\n",
       "      <td>3225.000000</td>\n",
       "      <td>...</td>\n",
       "      <td>84.000000</td>\n",
       "      <td>59.000</td>\n",
       "      <td>55.000000</td>\n",
       "      <td>32.000000</td>\n",
       "      <td>15.000000</td>\n",
       "      <td>13.00000</td>\n",
       "      <td>10.00000</td>\n",
       "      <td>4.000000</td>\n",
       "      <td>3.000000</td>\n",
       "      <td>1.000000</td>\n",
       "    </tr>\n",
       "    <tr>\n",
       "      <th>probs</th>\n",
       "      <td>0.074744</td>\n",
       "      <td>0.073829</td>\n",
       "      <td>0.072235</td>\n",
       "      <td>0.071676</td>\n",
       "      <td>0.071218</td>\n",
       "      <td>0.066454</td>\n",
       "      <td>0.066064</td>\n",
       "      <td>0.062284</td>\n",
       "      <td>0.060555</td>\n",
       "      <td>0.054672</td>\n",
       "      <td>...</td>\n",
       "      <td>0.001424</td>\n",
       "      <td>0.001</td>\n",
       "      <td>0.000932</td>\n",
       "      <td>0.000542</td>\n",
       "      <td>0.000254</td>\n",
       "      <td>0.00022</td>\n",
       "      <td>0.00017</td>\n",
       "      <td>0.000068</td>\n",
       "      <td>0.000051</td>\n",
       "      <td>0.000017</td>\n",
       "    </tr>\n",
       "  </tbody>\n",
       "</table>\n",
       "<p>2 rows × 35 columns</p>\n",
       "</div>"
      ],
      "text/plain": [
       "               211          210          208          209          212  \\\n",
       "lidar  4409.000000  4355.000000  4261.000000  4228.000000  4201.000000   \n",
       "probs     0.074744     0.073829     0.072235     0.071676     0.071218   \n",
       "\n",
       "               207          213          206          214          205  ...  \\\n",
       "lidar  3920.000000  3897.000000  3674.000000  3572.000000  3225.000000  ...   \n",
       "probs     0.066454     0.066064     0.062284     0.060555     0.054672  ...   \n",
       "\n",
       "             197     196        223        224        226       195       194  \\\n",
       "lidar  84.000000  59.000  55.000000  32.000000  15.000000  13.00000  10.00000   \n",
       "probs   0.001424   0.001   0.000932   0.000542   0.000254   0.00022   0.00017   \n",
       "\n",
       "            193       227       229  \n",
       "lidar  4.000000  3.000000  1.000000  \n",
       "probs  0.000068  0.000051  0.000017  \n",
       "\n",
       "[2 rows x 35 columns]"
      ]
     },
     "execution_count": 24,
     "metadata": {},
     "output_type": "execute_result"
    }
   ],
   "source": [
    "freqs[\"probs\"] = freqs[\"lidar\"] / len(data[\"lidar\"])\n",
    "freqs.transpose()"
   ]
  },
  {
   "cell_type": "code",
   "execution_count": 26,
   "metadata": {},
   "outputs": [
    {
     "data": {
      "text/plain": [
       "1.0"
      ]
     },
     "execution_count": 26,
     "metadata": {},
     "output_type": "execute_result"
    }
   ],
   "source": [
    "sum(freqs[\"probs\"])"
   ]
  },
  {
   "cell_type": "code",
   "execution_count": 28,
   "metadata": {},
   "outputs": [
    {
     "data": {
      "text/plain": [
       "<matplotlib.axes._subplots.AxesSubplot at 0x116133a10>"
      ]
     },
     "execution_count": 28,
     "metadata": {},
     "output_type": "execute_result"
    },
    {
     "data": {
      "image/png": "[encoded data removed]",
      "text/plain": [
       "<Figure size 432x288 with 1 Axes>"
      ]
     },
     "metadata": {
      "needs_background": "light"
     },
     "output_type": "display_data"
    }
   ],
   "source": [
    "freqs[\"probs\"].sort_index().plot.bar()"
   ]
  },
  {
   "cell_type": "markdown",
   "metadata": {},
   "source": [
    "この関数は確率質量関数と呼ばれる。このような分布は確率分布と呼ばれる。"
   ]
  },
  {
   "cell_type": "code",
   "execution_count": 35,
   "metadata": {},
   "outputs": [
    {
     "data": {
      "text/plain": [
       "211"
      ]
     },
     "execution_count": 35,
     "metadata": {},
     "output_type": "execute_result"
    }
   ],
   "source": [
    "def drawing():\n",
    "    return freqs.sample(n=1, weights=\"probs\").index[0]\n",
    "drawing()"
   ]
  },
  {
   "cell_type": "code",
   "execution_count": 41,
   "metadata": {},
   "outputs": [
    {
     "data": {
      "text/plain": [
       "<matplotlib.axes._subplots.AxesSubplot at 0x116d68bd0>"
      ]
     },
     "execution_count": 41,
     "metadata": {},
     "output_type": "execute_result"
    },
    {
     "data": {
      "image/png": "[encoded data removed]",
      "text/plain": [
       "<Figure size 432x288 with 1 Axes>"
      ]
     },
     "metadata": {
      "needs_background": "light"
     },
     "output_type": "display_data"
    }
   ],
   "source": [
    "samples = [drawing() for _ in range(len(data))]\n",
    "simulated = pd.DataFrame(samples, columns=[\"lidar\"])\n",
    "p = simulated[\"lidar\"]\n",
    "p.hist(bins=max(p)-min(p), color=\"orange\", align=\"left\")"
   ]
  },
  {
   "cell_type": "markdown",
   "metadata": {},
   "source": [
    "我々は暗黙的にガウス分布を仮定している"
   ]
  },
  {
   "cell_type": "code",
   "execution_count": 42,
   "metadata": {},
   "outputs": [],
   "source": [
    "def p(z, mu=209.7, dev=23.4):\n",
    "    return math.exp(-(z-mu)**2/(2*dev))/math.sqrt(2*math.pi*dev)"
   ]
  },
  {
   "cell_type": "code",
   "execution_count": 44,
   "metadata": {},
   "outputs": [
    {
     "data": {
      "text/plain": [
       "[<matplotlib.lines.Line2D at 0x11a4e93d0>]"
      ]
     },
     "execution_count": 44,
     "metadata": {},
     "output_type": "execute_result"
    },
    {
     "data": {
      "image/png": "[encoded data removed]",
      "text/plain": [
       "<Figure size 432x288 with 1 Axes>"
      ]
     },
     "metadata": {
      "needs_background": "light"
     },
     "output_type": "display_data"
    }
   ],
   "source": [
    "zs=range(190, 230)\n",
    "ys = [p(z) for z in zs]\n",
    "\n",
    "plt.plot(zs,ys)"
   ]
  },
  {
   "cell_type": "code",
   "execution_count": 45,
   "metadata": {},
   "outputs": [],
   "source": [
    "def prob(z, width=0.5):\n",
    "    return width*(p(z-width)+p(z+width))"
   ]
  },
  {
   "cell_type": "code",
   "execution_count": 47,
   "metadata": {},
   "outputs": [
    {
     "data": {
      "text/plain": [
       "<BarContainer object of 35 artists>"
      ]
     },
     "execution_count": 47,
     "metadata": {},
     "output_type": "execute_result"
    },
    {
     "data": {
      "image/png": "[encoded data removed]",
      "text/plain": [
       "<Figure size 432x288 with 1 Axes>"
      ]
     },
     "metadata": {
      "needs_background": "light"
     },
     "output_type": "display_data"
    }
   ],
   "source": [
    "plt.bar(zs,ys, color=\"red\", alpha=0.3)\n",
    "f = freqs[\"probs\"].sort_index()\n",
    "plt.bar(f.index, f.values, color=\"blue\", alpha=0.3)"
   ]
  },
  {
   "cell_type": "code",
   "execution_count": 50,
   "metadata": {},
   "outputs": [
    {
     "data": {
      "text/plain": [
       "[<matplotlib.lines.Line2D at 0x122eeb310>]"
      ]
     },
     "execution_count": 50,
     "metadata": {},
     "output_type": "execute_result"
    },
    {
     "data": {
      "image/png": "[encoded data removed]",
      "text/plain": [
       "<Figure size 432x288 with 1 Axes>"
      ]
     },
     "metadata": {
      "needs_background": "light"
     },
     "output_type": "display_data"
    }
   ],
   "source": [
    "from scipy.stats import norm\n",
    "ys_sci = [norm.pdf(z, data[\"lidar\"].mean(),stddev1) for z in zs]\n",
    "\n",
    "plt.plot(zs, ys_sci)"
   ]
  },
  {
   "cell_type": "markdown",
   "metadata": {},
   "source": [
    "上記のような確率密度分布を積分したものは累積分布関数と呼ばれる。"
   ]
  },
  {
   "cell_type": "code",
   "execution_count": 52,
   "metadata": {},
   "outputs": [
    {
     "data": {
      "text/plain": [
       "[<matplotlib.lines.Line2D at 0x12317ffd0>]"
      ]
     },
     "execution_count": 52,
     "metadata": {},
     "output_type": "execute_result"
    },
    {
     "data": {
      "image/png": "[encoded data removed]",
      "text/plain": [
       "<Figure size 432x288 with 1 Axes>"
      ]
     },
     "metadata": {
      "needs_background": "light"
     },
     "output_type": "display_data"
    }
   ],
   "source": [
    "from scipy.stats import norm\n",
    "ys_cdf = [norm.cdf(z, data[\"lidar\"].mean(),stddev1) for z in zs]\n",
    "\n",
    "plt.plot(zs, ys_cdf, color=\"red\")"
   ]
  },
  {
   "cell_type": "code",
   "execution_count": 54,
   "metadata": {
    "scrolled": true
   },
   "outputs": [
    {
     "data": {
      "text/plain": [
       "<BarContainer object of 40 artists>"
      ]
     },
     "execution_count": 54,
     "metadata": {},
     "output_type": "execute_result"
    },
    {
     "data": {
      "image/png": "[encoded data removed]",
      "text/plain": [
       "<Figure size 432x288 with 1 Axes>"
      ]
     },
     "metadata": {
      "needs_background": "light"
     },
     "output_type": "display_data"
    }
   ],
   "source": [
    "ys_diff = [norm.pdf(z+0.5, data[\"lidar\"].mean(), stddev1) - norm.cdf(z-0.5, data[\"lidar\"].mean(), stddev1) for z in zs]\n",
    "plt.bar(zs, ys)"
   ]
  },
  {
   "cell_type": "markdown",
   "metadata": {},
   "source": [
    "# 複雑な分布"
   ]
  },
  {
   "cell_type": "code",
   "execution_count": 56,
   "metadata": {},
   "outputs": [],
   "source": [
    "import pandas as pd\n",
    "import matplotlib.pyplot as plt\n",
    "data = pd.read_csv(\"data/sensor_data_600.txt\", delimiter=\" \", header=None, names=(\"date\", \"time\", \"ir\", \"lidar\"))"
   ]
  },
  {
   "cell_type": "code",
   "execution_count": 60,
   "metadata": {},
   "outputs": [
    {
     "data": {
      "text/plain": [
       "<matplotlib.axes._subplots.AxesSubplot at 0x1236bcd10>"
      ]
     },
     "execution_count": 60,
     "metadata": {},
     "output_type": "execute_result"
    },
    {
     "data": {
      "image/png": "[encoded data removed]",
      "text/plain": [
       "<Figure size 432x288 with 1 Axes>"
      ]
     },
     "metadata": {
      "needs_background": "light"
     },
     "output_type": "display_data"
    }
   ],
   "source": [
    "data[\"lidar\"].hist(bins=max(data[\"lidar\"])-min(data[\"lidar\"]), align=\"left\")"
   ]
  },
  {
   "cell_type": "markdown",
   "metadata": {},
   "source": [
    "上記のようなピークが２個以上ある分布はマルチモーダルな(多峰性の)分布と言われる。\n",
    "時系列順に並べてみてセンサがどうしてこのような値をとるようになったか調べてみる。"
   ]
  },
  {
   "cell_type": "code",
   "execution_count": 75,
   "metadata": {},
   "outputs": [
    {
     "data": {
      "image/png": "[encoded data removed]",
      "text/plain": [
       "<Figure size 432x288 with 1 Axes>"
      ]
     },
     "metadata": {
      "needs_background": "light"
     },
     "output_type": "display_data"
    }
   ],
   "source": [
    "data.lidar.plot()\n",
    "plt.show()"
   ]
  },
  {
   "cell_type": "code",
   "execution_count": 93,
   "metadata": {},
   "outputs": [
    {
     "name": "stdout",
     "output_type": "stream",
     "text": [
      "hour\n",
      "0     628.591243\n",
      "1     629.877973\n",
      "2     630.800510\n",
      "3     631.773783\n",
      "4     632.621324\n",
      "5     633.191700\n",
      "6     633.366535\n",
      "7     633.055948\n",
      "8     632.344947\n",
      "9     631.411790\n",
      "10    628.666808\n",
      "11    624.114181\n",
      "12    623.272036\n",
      "13    622.310082\n",
      "14    620.528419\n",
      "15    620.649760\n",
      "16    623.476298\n",
      "17    623.387433\n",
      "18    623.952018\n",
      "19    623.653694\n",
      "20    623.353885\n",
      "21    623.485722\n",
      "22    625.019475\n",
      "23    627.116036\n",
      "Name: lidar, dtype: float64\n"
     ]
    },
    {
     "data": {
      "image/png": "[encoded data removed]",
      "text/plain": [
       "<Figure size 432x288 with 1 Axes>"
      ]
     },
     "metadata": {
      "needs_background": "light"
     },
     "output_type": "display_data"
    }
   ],
   "source": [
    "data[\"hour\"]=[int(e/10000) for e in data.time]\n",
    "d = data.groupby(\"hour\")\n",
    "print(d.lidar.mean())\n",
    "d.lidar.mean().plot()\n",
    "plt.show()"
   ]
  },
  {
   "cell_type": "code",
   "execution_count": 95,
   "metadata": {},
   "outputs": [
    {
     "data": {
      "text/plain": [
       "<matplotlib.axes._subplots.AxesSubplot at 0x128d2e510>"
      ]
     },
     "execution_count": 95,
     "metadata": {},
     "output_type": "execute_result"
    },
    {
     "data": {
      "image/png": "[encoded data removed]",
      "text/plain": [
       "<Figure size 432x288 with 1 Axes>"
      ]
     },
     "metadata": {
      "needs_background": "light"
     },
     "output_type": "display_data"
    }
   ],
   "source": [
    "d.lidar.get_group(6).hist()\n",
    "d.lidar.get_group(14).hist()"
   ]
  },
  {
   "cell_type": "markdown",
   "metadata": {},
   "source": [
    "同時確率分布あるいは結合確率分布"
   ]
  },
  {
   "cell_type": "code",
   "execution_count": 97,
   "metadata": {},
   "outputs": [
    {
     "data": {
      "text/html": [
       "<div>\n",
       "<style scoped>\n",
       "    .dataframe tbody tr th:only-of-type {\n",
       "        vertical-align: middle;\n",
       "    }\n",
       "\n",
       "    .dataframe tbody tr th {\n",
       "        vertical-align: top;\n",
       "    }\n",
       "\n",
       "    .dataframe thead th {\n",
       "        text-align: right;\n",
       "    }\n",
       "</style>\n",
       "<table border=\"1\" class=\"dataframe\">\n",
       "  <thead>\n",
       "    <tr style=\"text-align: right;\">\n",
       "      <th></th>\n",
       "      <th>0</th>\n",
       "      <th>1</th>\n",
       "      <th>2</th>\n",
       "      <th>3</th>\n",
       "      <th>4</th>\n",
       "      <th>5</th>\n",
       "      <th>6</th>\n",
       "      <th>7</th>\n",
       "      <th>8</th>\n",
       "      <th>9</th>\n",
       "      <th>...</th>\n",
       "      <th>14</th>\n",
       "      <th>15</th>\n",
       "      <th>16</th>\n",
       "      <th>17</th>\n",
       "      <th>18</th>\n",
       "      <th>19</th>\n",
       "      <th>20</th>\n",
       "      <th>21</th>\n",
       "      <th>22</th>\n",
       "      <th>23</th>\n",
       "    </tr>\n",
       "  </thead>\n",
       "  <tbody>\n",
       "    <tr>\n",
       "      <th>607</th>\n",
       "      <td>0.000000</td>\n",
       "      <td>0.000000</td>\n",
       "      <td>0.000000</td>\n",
       "      <td>0.000000</td>\n",
       "      <td>0.000000</td>\n",
       "      <td>0.000000</td>\n",
       "      <td>0.000000</td>\n",
       "      <td>0.000000</td>\n",
       "      <td>0.000000</td>\n",
       "      <td>0.000000</td>\n",
       "      <td>...</td>\n",
       "      <td>0.000012</td>\n",
       "      <td>0.000000</td>\n",
       "      <td>0.000000</td>\n",
       "      <td>0.000000</td>\n",
       "      <td>0.000000</td>\n",
       "      <td>0.000000</td>\n",
       "      <td>0.000000</td>\n",
       "      <td>0.000000</td>\n",
       "      <td>0.000000</td>\n",
       "      <td>0.000000</td>\n",
       "    </tr>\n",
       "    <tr>\n",
       "      <th>608</th>\n",
       "      <td>0.000000</td>\n",
       "      <td>0.000000</td>\n",
       "      <td>0.000000</td>\n",
       "      <td>0.000000</td>\n",
       "      <td>0.000000</td>\n",
       "      <td>0.000000</td>\n",
       "      <td>0.000000</td>\n",
       "      <td>0.000000</td>\n",
       "      <td>0.000000</td>\n",
       "      <td>0.000000</td>\n",
       "      <td>...</td>\n",
       "      <td>0.000012</td>\n",
       "      <td>0.000000</td>\n",
       "      <td>0.000000</td>\n",
       "      <td>0.000000</td>\n",
       "      <td>0.000000</td>\n",
       "      <td>0.000000</td>\n",
       "      <td>0.000012</td>\n",
       "      <td>0.000012</td>\n",
       "      <td>0.000000</td>\n",
       "      <td>0.000000</td>\n",
       "    </tr>\n",
       "    <tr>\n",
       "      <th>609</th>\n",
       "      <td>0.000000</td>\n",
       "      <td>0.000000</td>\n",
       "      <td>0.000000</td>\n",
       "      <td>0.000000</td>\n",
       "      <td>0.000000</td>\n",
       "      <td>0.000000</td>\n",
       "      <td>0.000000</td>\n",
       "      <td>0.000000</td>\n",
       "      <td>0.000000</td>\n",
       "      <td>0.000000</td>\n",
       "      <td>...</td>\n",
       "      <td>0.000000</td>\n",
       "      <td>0.000024</td>\n",
       "      <td>0.000000</td>\n",
       "      <td>0.000000</td>\n",
       "      <td>0.000000</td>\n",
       "      <td>0.000000</td>\n",
       "      <td>0.000000</td>\n",
       "      <td>0.000012</td>\n",
       "      <td>0.000012</td>\n",
       "      <td>0.000000</td>\n",
       "    </tr>\n",
       "    <tr>\n",
       "      <th>610</th>\n",
       "      <td>0.000000</td>\n",
       "      <td>0.000000</td>\n",
       "      <td>0.000000</td>\n",
       "      <td>0.000000</td>\n",
       "      <td>0.000000</td>\n",
       "      <td>0.000000</td>\n",
       "      <td>0.000000</td>\n",
       "      <td>0.000000</td>\n",
       "      <td>0.000000</td>\n",
       "      <td>0.000000</td>\n",
       "      <td>...</td>\n",
       "      <td>0.000036</td>\n",
       "      <td>0.000049</td>\n",
       "      <td>0.000000</td>\n",
       "      <td>0.000000</td>\n",
       "      <td>0.000012</td>\n",
       "      <td>0.000012</td>\n",
       "      <td>0.000134</td>\n",
       "      <td>0.000000</td>\n",
       "      <td>0.000000</td>\n",
       "      <td>0.000000</td>\n",
       "    </tr>\n",
       "    <tr>\n",
       "      <th>611</th>\n",
       "      <td>0.000000</td>\n",
       "      <td>0.000000</td>\n",
       "      <td>0.000000</td>\n",
       "      <td>0.000000</td>\n",
       "      <td>0.000000</td>\n",
       "      <td>0.000000</td>\n",
       "      <td>0.000000</td>\n",
       "      <td>0.000000</td>\n",
       "      <td>0.000000</td>\n",
       "      <td>0.000000</td>\n",
       "      <td>...</td>\n",
       "      <td>0.000146</td>\n",
       "      <td>0.000122</td>\n",
       "      <td>0.000000</td>\n",
       "      <td>0.000000</td>\n",
       "      <td>0.000000</td>\n",
       "      <td>0.000024</td>\n",
       "      <td>0.000073</td>\n",
       "      <td>0.000146</td>\n",
       "      <td>0.000049</td>\n",
       "      <td>0.000000</td>\n",
       "    </tr>\n",
       "    <tr>\n",
       "      <th>612</th>\n",
       "      <td>0.000000</td>\n",
       "      <td>0.000000</td>\n",
       "      <td>0.000000</td>\n",
       "      <td>0.000000</td>\n",
       "      <td>0.000000</td>\n",
       "      <td>0.000000</td>\n",
       "      <td>0.000000</td>\n",
       "      <td>0.000000</td>\n",
       "      <td>0.000000</td>\n",
       "      <td>0.000000</td>\n",
       "      <td>...</td>\n",
       "      <td>0.000219</td>\n",
       "      <td>0.000316</td>\n",
       "      <td>0.000000</td>\n",
       "      <td>0.000036</td>\n",
       "      <td>0.000036</td>\n",
       "      <td>0.000061</td>\n",
       "      <td>0.000255</td>\n",
       "      <td>0.000194</td>\n",
       "      <td>0.000024</td>\n",
       "      <td>0.000012</td>\n",
       "    </tr>\n",
       "    <tr>\n",
       "      <th>613</th>\n",
       "      <td>0.000000</td>\n",
       "      <td>0.000000</td>\n",
       "      <td>0.000000</td>\n",
       "      <td>0.000000</td>\n",
       "      <td>0.000000</td>\n",
       "      <td>0.000000</td>\n",
       "      <td>0.000000</td>\n",
       "      <td>0.000000</td>\n",
       "      <td>0.000000</td>\n",
       "      <td>0.000000</td>\n",
       "      <td>...</td>\n",
       "      <td>0.000620</td>\n",
       "      <td>0.000644</td>\n",
       "      <td>0.000024</td>\n",
       "      <td>0.000182</td>\n",
       "      <td>0.000061</td>\n",
       "      <td>0.000219</td>\n",
       "      <td>0.000680</td>\n",
       "      <td>0.000437</td>\n",
       "      <td>0.000109</td>\n",
       "      <td>0.000024</td>\n",
       "    </tr>\n",
       "    <tr>\n",
       "      <th>615</th>\n",
       "      <td>0.000000</td>\n",
       "      <td>0.000000</td>\n",
       "      <td>0.000000</td>\n",
       "      <td>0.000000</td>\n",
       "      <td>0.000000</td>\n",
       "      <td>0.000000</td>\n",
       "      <td>0.000000</td>\n",
       "      <td>0.000000</td>\n",
       "      <td>0.000000</td>\n",
       "      <td>0.000000</td>\n",
       "      <td>...</td>\n",
       "      <td>0.001300</td>\n",
       "      <td>0.001045</td>\n",
       "      <td>0.000024</td>\n",
       "      <td>0.000207</td>\n",
       "      <td>0.000267</td>\n",
       "      <td>0.000377</td>\n",
       "      <td>0.000984</td>\n",
       "      <td>0.001021</td>\n",
       "      <td>0.000474</td>\n",
       "      <td>0.000049</td>\n",
       "    </tr>\n",
       "    <tr>\n",
       "      <th>616</th>\n",
       "      <td>0.000000</td>\n",
       "      <td>0.000000</td>\n",
       "      <td>0.000000</td>\n",
       "      <td>0.000000</td>\n",
       "      <td>0.000000</td>\n",
       "      <td>0.000000</td>\n",
       "      <td>0.000000</td>\n",
       "      <td>0.000000</td>\n",
       "      <td>0.000000</td>\n",
       "      <td>0.000000</td>\n",
       "      <td>...</td>\n",
       "      <td>0.001956</td>\n",
       "      <td>0.001810</td>\n",
       "      <td>0.000219</td>\n",
       "      <td>0.000595</td>\n",
       "      <td>0.000595</td>\n",
       "      <td>0.001021</td>\n",
       "      <td>0.001725</td>\n",
       "      <td>0.001397</td>\n",
       "      <td>0.000595</td>\n",
       "      <td>0.000085</td>\n",
       "    </tr>\n",
       "    <tr>\n",
       "      <th>617</th>\n",
       "      <td>0.000000</td>\n",
       "      <td>0.000000</td>\n",
       "      <td>0.000000</td>\n",
       "      <td>0.000000</td>\n",
       "      <td>0.000000</td>\n",
       "      <td>0.000000</td>\n",
       "      <td>0.000000</td>\n",
       "      <td>0.000000</td>\n",
       "      <td>0.000000</td>\n",
       "      <td>0.000000</td>\n",
       "      <td>...</td>\n",
       "      <td>0.003111</td>\n",
       "      <td>0.002928</td>\n",
       "      <td>0.000510</td>\n",
       "      <td>0.001264</td>\n",
       "      <td>0.000923</td>\n",
       "      <td>0.001640</td>\n",
       "      <td>0.002211</td>\n",
       "      <td>0.002296</td>\n",
       "      <td>0.001021</td>\n",
       "      <td>0.000146</td>\n",
       "    </tr>\n",
       "    <tr>\n",
       "      <th>618</th>\n",
       "      <td>0.000036</td>\n",
       "      <td>0.000000</td>\n",
       "      <td>0.000000</td>\n",
       "      <td>0.000000</td>\n",
       "      <td>0.000000</td>\n",
       "      <td>0.000000</td>\n",
       "      <td>0.000000</td>\n",
       "      <td>0.000000</td>\n",
       "      <td>0.000000</td>\n",
       "      <td>0.000000</td>\n",
       "      <td>...</td>\n",
       "      <td>0.004326</td>\n",
       "      <td>0.003791</td>\n",
       "      <td>0.001106</td>\n",
       "      <td>0.001750</td>\n",
       "      <td>0.001774</td>\n",
       "      <td>0.002272</td>\n",
       "      <td>0.002916</td>\n",
       "      <td>0.003135</td>\n",
       "      <td>0.001908</td>\n",
       "      <td>0.000401</td>\n",
       "    </tr>\n",
       "    <tr>\n",
       "      <th>619</th>\n",
       "      <td>0.000219</td>\n",
       "      <td>0.000049</td>\n",
       "      <td>0.000012</td>\n",
       "      <td>0.000000</td>\n",
       "      <td>0.000000</td>\n",
       "      <td>0.000000</td>\n",
       "      <td>0.000000</td>\n",
       "      <td>0.000000</td>\n",
       "      <td>0.000000</td>\n",
       "      <td>0.000000</td>\n",
       "      <td>...</td>\n",
       "      <td>0.004982</td>\n",
       "      <td>0.004301</td>\n",
       "      <td>0.001810</td>\n",
       "      <td>0.002697</td>\n",
       "      <td>0.002309</td>\n",
       "      <td>0.003341</td>\n",
       "      <td>0.003657</td>\n",
       "      <td>0.003475</td>\n",
       "      <td>0.002539</td>\n",
       "      <td>0.000729</td>\n",
       "    </tr>\n",
       "    <tr>\n",
       "      <th>620</th>\n",
       "      <td>0.000389</td>\n",
       "      <td>0.000073</td>\n",
       "      <td>0.000036</td>\n",
       "      <td>0.000012</td>\n",
       "      <td>0.000000</td>\n",
       "      <td>0.000000</td>\n",
       "      <td>0.000000</td>\n",
       "      <td>0.000000</td>\n",
       "      <td>0.000000</td>\n",
       "      <td>0.000000</td>\n",
       "      <td>...</td>\n",
       "      <td>0.005140</td>\n",
       "      <td>0.005371</td>\n",
       "      <td>0.002892</td>\n",
       "      <td>0.003013</td>\n",
       "      <td>0.002710</td>\n",
       "      <td>0.004119</td>\n",
       "      <td>0.003900</td>\n",
       "      <td>0.003621</td>\n",
       "      <td>0.002685</td>\n",
       "      <td>0.001021</td>\n",
       "    </tr>\n",
       "    <tr>\n",
       "      <th>621</th>\n",
       "      <td>0.000559</td>\n",
       "      <td>0.000158</td>\n",
       "      <td>0.000036</td>\n",
       "      <td>0.000000</td>\n",
       "      <td>0.000000</td>\n",
       "      <td>0.000012</td>\n",
       "      <td>0.000012</td>\n",
       "      <td>0.000000</td>\n",
       "      <td>0.000000</td>\n",
       "      <td>0.000000</td>\n",
       "      <td>...</td>\n",
       "      <td>0.004921</td>\n",
       "      <td>0.005650</td>\n",
       "      <td>0.003912</td>\n",
       "      <td>0.003706</td>\n",
       "      <td>0.003196</td>\n",
       "      <td>0.004435</td>\n",
       "      <td>0.003512</td>\n",
       "      <td>0.003985</td>\n",
       "      <td>0.003451</td>\n",
       "      <td>0.001895</td>\n",
       "    </tr>\n",
       "    <tr>\n",
       "      <th>622</th>\n",
       "      <td>0.001033</td>\n",
       "      <td>0.000219</td>\n",
       "      <td>0.000085</td>\n",
       "      <td>0.000024</td>\n",
       "      <td>0.000000</td>\n",
       "      <td>0.000000</td>\n",
       "      <td>0.000000</td>\n",
       "      <td>0.000000</td>\n",
       "      <td>0.000000</td>\n",
       "      <td>0.000061</td>\n",
       "      <td>...</td>\n",
       "      <td>0.004799</td>\n",
       "      <td>0.005030</td>\n",
       "      <td>0.005407</td>\n",
       "      <td>0.004411</td>\n",
       "      <td>0.004180</td>\n",
       "      <td>0.003755</td>\n",
       "      <td>0.003062</td>\n",
       "      <td>0.003038</td>\n",
       "      <td>0.003475</td>\n",
       "      <td>0.002333</td>\n",
       "    </tr>\n",
       "    <tr>\n",
       "      <th>623</th>\n",
       "      <td>0.001604</td>\n",
       "      <td>0.000535</td>\n",
       "      <td>0.000231</td>\n",
       "      <td>0.000036</td>\n",
       "      <td>0.000049</td>\n",
       "      <td>0.000012</td>\n",
       "      <td>0.000012</td>\n",
       "      <td>0.000024</td>\n",
       "      <td>0.000012</td>\n",
       "      <td>0.000036</td>\n",
       "      <td>...</td>\n",
       "      <td>0.003985</td>\n",
       "      <td>0.003888</td>\n",
       "      <td>0.006185</td>\n",
       "      <td>0.004471</td>\n",
       "      <td>0.003864</td>\n",
       "      <td>0.002710</td>\n",
       "      <td>0.002357</td>\n",
       "      <td>0.002345</td>\n",
       "      <td>0.003268</td>\n",
       "      <td>0.003268</td>\n",
       "    </tr>\n",
       "    <tr>\n",
       "      <th>624</th>\n",
       "      <td>0.002175</td>\n",
       "      <td>0.000972</td>\n",
       "      <td>0.000547</td>\n",
       "      <td>0.000194</td>\n",
       "      <td>0.000061</td>\n",
       "      <td>0.000049</td>\n",
       "      <td>0.000024</td>\n",
       "      <td>0.000049</td>\n",
       "      <td>0.000097</td>\n",
       "      <td>0.000134</td>\n",
       "      <td>...</td>\n",
       "      <td>0.002782</td>\n",
       "      <td>0.003171</td>\n",
       "      <td>0.005553</td>\n",
       "      <td>0.004338</td>\n",
       "      <td>0.004301</td>\n",
       "      <td>0.002539</td>\n",
       "      <td>0.001835</td>\n",
       "      <td>0.001944</td>\n",
       "      <td>0.002685</td>\n",
       "      <td>0.003475</td>\n",
       "    </tr>\n",
       "    <tr>\n",
       "      <th>625</th>\n",
       "      <td>0.003062</td>\n",
       "      <td>0.001823</td>\n",
       "      <td>0.000911</td>\n",
       "      <td>0.000462</td>\n",
       "      <td>0.000146</td>\n",
       "      <td>0.000049</td>\n",
       "      <td>0.000085</td>\n",
       "      <td>0.000109</td>\n",
       "      <td>0.000292</td>\n",
       "      <td>0.000413</td>\n",
       "      <td>...</td>\n",
       "      <td>0.001823</td>\n",
       "      <td>0.002248</td>\n",
       "      <td>0.005152</td>\n",
       "      <td>0.003937</td>\n",
       "      <td>0.003669</td>\n",
       "      <td>0.001847</td>\n",
       "      <td>0.001106</td>\n",
       "      <td>0.001349</td>\n",
       "      <td>0.002369</td>\n",
       "      <td>0.003062</td>\n",
       "    </tr>\n",
       "    <tr>\n",
       "      <th>626</th>\n",
       "      <td>0.003742</td>\n",
       "      <td>0.002685</td>\n",
       "      <td>0.001507</td>\n",
       "      <td>0.001094</td>\n",
       "      <td>0.000462</td>\n",
       "      <td>0.000243</td>\n",
       "      <td>0.000219</td>\n",
       "      <td>0.000377</td>\n",
       "      <td>0.000559</td>\n",
       "      <td>0.000668</td>\n",
       "      <td>...</td>\n",
       "      <td>0.001349</td>\n",
       "      <td>0.001434</td>\n",
       "      <td>0.003755</td>\n",
       "      <td>0.003402</td>\n",
       "      <td>0.003524</td>\n",
       "      <td>0.001944</td>\n",
       "      <td>0.001252</td>\n",
       "      <td>0.001057</td>\n",
       "      <td>0.002066</td>\n",
       "      <td>0.003548</td>\n",
       "    </tr>\n",
       "    <tr>\n",
       "      <th>627</th>\n",
       "      <td>0.003840</td>\n",
       "      <td>0.003244</td>\n",
       "      <td>0.002078</td>\n",
       "      <td>0.001689</td>\n",
       "      <td>0.000887</td>\n",
       "      <td>0.000608</td>\n",
       "      <td>0.000522</td>\n",
       "      <td>0.000571</td>\n",
       "      <td>0.000923</td>\n",
       "      <td>0.001094</td>\n",
       "      <td>...</td>\n",
       "      <td>0.000778</td>\n",
       "      <td>0.000717</td>\n",
       "      <td>0.002880</td>\n",
       "      <td>0.003074</td>\n",
       "      <td>0.003147</td>\n",
       "      <td>0.001981</td>\n",
       "      <td>0.001130</td>\n",
       "      <td>0.001215</td>\n",
       "      <td>0.001859</td>\n",
       "      <td>0.003196</td>\n",
       "    </tr>\n",
       "    <tr>\n",
       "      <th>628</th>\n",
       "      <td>0.004435</td>\n",
       "      <td>0.004581</td>\n",
       "      <td>0.003791</td>\n",
       "      <td>0.002661</td>\n",
       "      <td>0.001701</td>\n",
       "      <td>0.001215</td>\n",
       "      <td>0.001276</td>\n",
       "      <td>0.001434</td>\n",
       "      <td>0.001738</td>\n",
       "      <td>0.001871</td>\n",
       "      <td>...</td>\n",
       "      <td>0.000389</td>\n",
       "      <td>0.000340</td>\n",
       "      <td>0.001677</td>\n",
       "      <td>0.002187</td>\n",
       "      <td>0.002697</td>\n",
       "      <td>0.002041</td>\n",
       "      <td>0.001567</td>\n",
       "      <td>0.001324</td>\n",
       "      <td>0.001908</td>\n",
       "      <td>0.003244</td>\n",
       "    </tr>\n",
       "    <tr>\n",
       "      <th>629</th>\n",
       "      <td>0.004386</td>\n",
       "      <td>0.005128</td>\n",
       "      <td>0.005176</td>\n",
       "      <td>0.004277</td>\n",
       "      <td>0.002710</td>\n",
       "      <td>0.002406</td>\n",
       "      <td>0.002078</td>\n",
       "      <td>0.002418</td>\n",
       "      <td>0.003111</td>\n",
       "      <td>0.003147</td>\n",
       "      <td>...</td>\n",
       "      <td>0.000279</td>\n",
       "      <td>0.000109</td>\n",
       "      <td>0.000996</td>\n",
       "      <td>0.001774</td>\n",
       "      <td>0.002151</td>\n",
       "      <td>0.001859</td>\n",
       "      <td>0.001883</td>\n",
       "      <td>0.001981</td>\n",
       "      <td>0.001993</td>\n",
       "      <td>0.003038</td>\n",
       "    </tr>\n",
       "    <tr>\n",
       "      <th>630</th>\n",
       "      <td>0.004107</td>\n",
       "      <td>0.005674</td>\n",
       "      <td>0.005723</td>\n",
       "      <td>0.004933</td>\n",
       "      <td>0.004301</td>\n",
       "      <td>0.003426</td>\n",
       "      <td>0.003426</td>\n",
       "      <td>0.003621</td>\n",
       "      <td>0.004338</td>\n",
       "      <td>0.003633</td>\n",
       "      <td>...</td>\n",
       "      <td>0.000158</td>\n",
       "      <td>0.000085</td>\n",
       "      <td>0.000608</td>\n",
       "      <td>0.001118</td>\n",
       "      <td>0.001677</td>\n",
       "      <td>0.002090</td>\n",
       "      <td>0.002199</td>\n",
       "      <td>0.002151</td>\n",
       "      <td>0.002260</td>\n",
       "      <td>0.002831</td>\n",
       "    </tr>\n",
       "    <tr>\n",
       "      <th>631</th>\n",
       "      <td>0.004155</td>\n",
       "      <td>0.004812</td>\n",
       "      <td>0.005711</td>\n",
       "      <td>0.005674</td>\n",
       "      <td>0.005735</td>\n",
       "      <td>0.005115</td>\n",
       "      <td>0.004727</td>\n",
       "      <td>0.005042</td>\n",
       "      <td>0.005128</td>\n",
       "      <td>0.003912</td>\n",
       "      <td>...</td>\n",
       "      <td>0.000036</td>\n",
       "      <td>0.000024</td>\n",
       "      <td>0.000243</td>\n",
       "      <td>0.000450</td>\n",
       "      <td>0.000875</td>\n",
       "      <td>0.001738</td>\n",
       "      <td>0.002029</td>\n",
       "      <td>0.002236</td>\n",
       "      <td>0.002248</td>\n",
       "      <td>0.002928</td>\n",
       "    </tr>\n",
       "    <tr>\n",
       "      <th>632</th>\n",
       "      <td>0.003038</td>\n",
       "      <td>0.004508</td>\n",
       "      <td>0.005152</td>\n",
       "      <td>0.005456</td>\n",
       "      <td>0.006124</td>\n",
       "      <td>0.005808</td>\n",
       "      <td>0.005589</td>\n",
       "      <td>0.006209</td>\n",
       "      <td>0.005176</td>\n",
       "      <td>0.004313</td>\n",
       "      <td>...</td>\n",
       "      <td>0.000012</td>\n",
       "      <td>0.000024</td>\n",
       "      <td>0.000073</td>\n",
       "      <td>0.000231</td>\n",
       "      <td>0.000498</td>\n",
       "      <td>0.001324</td>\n",
       "      <td>0.001665</td>\n",
       "      <td>0.001592</td>\n",
       "      <td>0.002005</td>\n",
       "      <td>0.002503</td>\n",
       "    </tr>\n",
       "    <tr>\n",
       "      <th>633</th>\n",
       "      <td>0.002588</td>\n",
       "      <td>0.003086</td>\n",
       "      <td>0.004484</td>\n",
       "      <td>0.005018</td>\n",
       "      <td>0.006355</td>\n",
       "      <td>0.006245</td>\n",
       "      <td>0.006051</td>\n",
       "      <td>0.006172</td>\n",
       "      <td>0.004994</td>\n",
       "      <td>0.003208</td>\n",
       "      <td>...</td>\n",
       "      <td>0.000000</td>\n",
       "      <td>0.000000</td>\n",
       "      <td>0.000036</td>\n",
       "      <td>0.000182</td>\n",
       "      <td>0.000279</td>\n",
       "      <td>0.000875</td>\n",
       "      <td>0.001373</td>\n",
       "      <td>0.001264</td>\n",
       "      <td>0.001531</td>\n",
       "      <td>0.002163</td>\n",
       "    </tr>\n",
       "    <tr>\n",
       "      <th>634</th>\n",
       "      <td>0.001555</td>\n",
       "      <td>0.002491</td>\n",
       "      <td>0.003390</td>\n",
       "      <td>0.004301</td>\n",
       "      <td>0.004702</td>\n",
       "      <td>0.005626</td>\n",
       "      <td>0.005893</td>\n",
       "      <td>0.005614</td>\n",
       "      <td>0.004374</td>\n",
       "      <td>0.002661</td>\n",
       "      <td>...</td>\n",
       "      <td>0.000012</td>\n",
       "      <td>0.000000</td>\n",
       "      <td>0.000000</td>\n",
       "      <td>0.000073</td>\n",
       "      <td>0.000207</td>\n",
       "      <td>0.000437</td>\n",
       "      <td>0.000875</td>\n",
       "      <td>0.000838</td>\n",
       "      <td>0.001154</td>\n",
       "      <td>0.001495</td>\n",
       "    </tr>\n",
       "    <tr>\n",
       "      <th>636</th>\n",
       "      <td>0.000863</td>\n",
       "      <td>0.001470</td>\n",
       "      <td>0.002090</td>\n",
       "      <td>0.003062</td>\n",
       "      <td>0.004289</td>\n",
       "      <td>0.004885</td>\n",
       "      <td>0.005115</td>\n",
       "      <td>0.004338</td>\n",
       "      <td>0.003426</td>\n",
       "      <td>0.001725</td>\n",
       "      <td>...</td>\n",
       "      <td>0.000000</td>\n",
       "      <td>0.000000</td>\n",
       "      <td>0.000000</td>\n",
       "      <td>0.000024</td>\n",
       "      <td>0.000061</td>\n",
       "      <td>0.000255</td>\n",
       "      <td>0.000437</td>\n",
       "      <td>0.000535</td>\n",
       "      <td>0.000693</td>\n",
       "      <td>0.000729</td>\n",
       "    </tr>\n",
       "    <tr>\n",
       "      <th>637</th>\n",
       "      <td>0.000693</td>\n",
       "      <td>0.000863</td>\n",
       "      <td>0.001106</td>\n",
       "      <td>0.001883</td>\n",
       "      <td>0.002527</td>\n",
       "      <td>0.003390</td>\n",
       "      <td>0.003524</td>\n",
       "      <td>0.003098</td>\n",
       "      <td>0.002126</td>\n",
       "      <td>0.000923</td>\n",
       "      <td>...</td>\n",
       "      <td>0.000000</td>\n",
       "      <td>0.000000</td>\n",
       "      <td>0.000000</td>\n",
       "      <td>0.000000</td>\n",
       "      <td>0.000024</td>\n",
       "      <td>0.000085</td>\n",
       "      <td>0.000170</td>\n",
       "      <td>0.000292</td>\n",
       "      <td>0.000340</td>\n",
       "      <td>0.000522</td>\n",
       "    </tr>\n",
       "    <tr>\n",
       "      <th>638</th>\n",
       "      <td>0.000365</td>\n",
       "      <td>0.000304</td>\n",
       "      <td>0.000510</td>\n",
       "      <td>0.000972</td>\n",
       "      <td>0.001689</td>\n",
       "      <td>0.001944</td>\n",
       "      <td>0.002272</td>\n",
       "      <td>0.001956</td>\n",
       "      <td>0.001409</td>\n",
       "      <td>0.000486</td>\n",
       "      <td>...</td>\n",
       "      <td>0.000000</td>\n",
       "      <td>0.000000</td>\n",
       "      <td>0.000000</td>\n",
       "      <td>0.000000</td>\n",
       "      <td>0.000000</td>\n",
       "      <td>0.000061</td>\n",
       "      <td>0.000122</td>\n",
       "      <td>0.000049</td>\n",
       "      <td>0.000194</td>\n",
       "      <td>0.000134</td>\n",
       "    </tr>\n",
       "    <tr>\n",
       "      <th>639</th>\n",
       "      <td>0.000134</td>\n",
       "      <td>0.000158</td>\n",
       "      <td>0.000170</td>\n",
       "      <td>0.000790</td>\n",
       "      <td>0.000693</td>\n",
       "      <td>0.001191</td>\n",
       "      <td>0.001288</td>\n",
       "      <td>0.001069</td>\n",
       "      <td>0.000522</td>\n",
       "      <td>0.000279</td>\n",
       "      <td>...</td>\n",
       "      <td>0.000000</td>\n",
       "      <td>0.000000</td>\n",
       "      <td>0.000000</td>\n",
       "      <td>0.000000</td>\n",
       "      <td>0.000012</td>\n",
       "      <td>0.000012</td>\n",
       "      <td>0.000036</td>\n",
       "      <td>0.000024</td>\n",
       "      <td>0.000097</td>\n",
       "      <td>0.000158</td>\n",
       "    </tr>\n",
       "    <tr>\n",
       "      <th>640</th>\n",
       "      <td>0.000012</td>\n",
       "      <td>0.000061</td>\n",
       "      <td>0.000097</td>\n",
       "      <td>0.000255</td>\n",
       "      <td>0.000340</td>\n",
       "      <td>0.000535</td>\n",
       "      <td>0.000595</td>\n",
       "      <td>0.000571</td>\n",
       "      <td>0.000352</td>\n",
       "      <td>0.000061</td>\n",
       "      <td>...</td>\n",
       "      <td>0.000000</td>\n",
       "      <td>0.000000</td>\n",
       "      <td>0.000000</td>\n",
       "      <td>0.000000</td>\n",
       "      <td>0.000000</td>\n",
       "      <td>0.000012</td>\n",
       "      <td>0.000000</td>\n",
       "      <td>0.000012</td>\n",
       "      <td>0.000036</td>\n",
       "      <td>0.000036</td>\n",
       "    </tr>\n",
       "    <tr>\n",
       "      <th>641</th>\n",
       "      <td>0.000012</td>\n",
       "      <td>0.000012</td>\n",
       "      <td>0.000024</td>\n",
       "      <td>0.000085</td>\n",
       "      <td>0.000109</td>\n",
       "      <td>0.000255</td>\n",
       "      <td>0.000194</td>\n",
       "      <td>0.000194</td>\n",
       "      <td>0.000073</td>\n",
       "      <td>0.000024</td>\n",
       "      <td>...</td>\n",
       "      <td>0.000000</td>\n",
       "      <td>0.000000</td>\n",
       "      <td>0.000000</td>\n",
       "      <td>0.000000</td>\n",
       "      <td>0.000000</td>\n",
       "      <td>0.000000</td>\n",
       "      <td>0.000000</td>\n",
       "      <td>0.000000</td>\n",
       "      <td>0.000000</td>\n",
       "      <td>0.000000</td>\n",
       "    </tr>\n",
       "    <tr>\n",
       "      <th>642</th>\n",
       "      <td>0.000012</td>\n",
       "      <td>0.000012</td>\n",
       "      <td>0.000012</td>\n",
       "      <td>0.000036</td>\n",
       "      <td>0.000061</td>\n",
       "      <td>0.000024</td>\n",
       "      <td>0.000122</td>\n",
       "      <td>0.000085</td>\n",
       "      <td>0.000024</td>\n",
       "      <td>0.000000</td>\n",
       "      <td>...</td>\n",
       "      <td>0.000000</td>\n",
       "      <td>0.000000</td>\n",
       "      <td>0.000000</td>\n",
       "      <td>0.000000</td>\n",
       "      <td>0.000000</td>\n",
       "      <td>0.000000</td>\n",
       "      <td>0.000000</td>\n",
       "      <td>0.000000</td>\n",
       "      <td>0.000000</td>\n",
       "      <td>0.000012</td>\n",
       "    </tr>\n",
       "    <tr>\n",
       "      <th>643</th>\n",
       "      <td>0.000000</td>\n",
       "      <td>0.000000</td>\n",
       "      <td>0.000000</td>\n",
       "      <td>0.000000</td>\n",
       "      <td>0.000024</td>\n",
       "      <td>0.000000</td>\n",
       "      <td>0.000024</td>\n",
       "      <td>0.000049</td>\n",
       "      <td>0.000012</td>\n",
       "      <td>0.000000</td>\n",
       "      <td>...</td>\n",
       "      <td>0.000000</td>\n",
       "      <td>0.000000</td>\n",
       "      <td>0.000000</td>\n",
       "      <td>0.000000</td>\n",
       "      <td>0.000000</td>\n",
       "      <td>0.000000</td>\n",
       "      <td>0.000000</td>\n",
       "      <td>0.000000</td>\n",
       "      <td>0.000000</td>\n",
       "      <td>0.000000</td>\n",
       "    </tr>\n",
       "    <tr>\n",
       "      <th>644</th>\n",
       "      <td>0.000000</td>\n",
       "      <td>0.000000</td>\n",
       "      <td>0.000000</td>\n",
       "      <td>0.000000</td>\n",
       "      <td>0.000000</td>\n",
       "      <td>0.000000</td>\n",
       "      <td>0.000000</td>\n",
       "      <td>0.000000</td>\n",
       "      <td>0.000024</td>\n",
       "      <td>0.000000</td>\n",
       "      <td>...</td>\n",
       "      <td>0.000000</td>\n",
       "      <td>0.000000</td>\n",
       "      <td>0.000000</td>\n",
       "      <td>0.000000</td>\n",
       "      <td>0.000000</td>\n",
       "      <td>0.000000</td>\n",
       "      <td>0.000000</td>\n",
       "      <td>0.000000</td>\n",
       "      <td>0.000000</td>\n",
       "      <td>0.000000</td>\n",
       "    </tr>\n",
       "    <tr>\n",
       "      <th>645</th>\n",
       "      <td>0.000000</td>\n",
       "      <td>0.000000</td>\n",
       "      <td>0.000000</td>\n",
       "      <td>0.000000</td>\n",
       "      <td>0.000000</td>\n",
       "      <td>0.000000</td>\n",
       "      <td>0.000012</td>\n",
       "      <td>0.000000</td>\n",
       "      <td>0.000000</td>\n",
       "      <td>0.000000</td>\n",
       "      <td>...</td>\n",
       "      <td>0.000000</td>\n",
       "      <td>0.000000</td>\n",
       "      <td>0.000000</td>\n",
       "      <td>0.000000</td>\n",
       "      <td>0.000000</td>\n",
       "      <td>0.000000</td>\n",
       "      <td>0.000000</td>\n",
       "      <td>0.000000</td>\n",
       "      <td>0.000000</td>\n",
       "      <td>0.000000</td>\n",
       "    </tr>\n",
       "  </tbody>\n",
       "</table>\n",
       "<p>37 rows × 24 columns</p>\n",
       "</div>"
      ],
      "text/plain": [
       "           0         1         2         3         4         5         6   \\\n",
       "607  0.000000  0.000000  0.000000  0.000000  0.000000  0.000000  0.000000   \n",
       "608  0.000000  0.000000  0.000000  0.000000  0.000000  0.000000  0.000000   \n",
       "609  0.000000  0.000000  0.000000  0.000000  0.000000  0.000000  0.000000   \n",
       "610  0.000000  0.000000  0.000000  0.000000  0.000000  0.000000  0.000000   \n",
       "611  0.000000  0.000000  0.000000  0.000000  0.000000  0.000000  0.000000   \n",
       "612  0.000000  0.000000  0.000000  0.000000  0.000000  0.000000  0.000000   \n",
       "613  0.000000  0.000000  0.000000  0.000000  0.000000  0.000000  0.000000   \n",
       "615  0.000000  0.000000  0.000000  0.000000  0.000000  0.000000  0.000000   \n",
       "616  0.000000  0.000000  0.000000  0.000000  0.000000  0.000000  0.000000   \n",
       "617  0.000000  0.000000  0.000000  0.000000  0.000000  0.000000  0.000000   \n",
       "618  0.000036  0.000000  0.000000  0.000000  0.000000  0.000000  0.000000   \n",
       "619  0.000219  0.000049  0.000012  0.000000  0.000000  0.000000  0.000000   \n",
       "620  0.000389  0.000073  0.000036  0.000012  0.000000  0.000000  0.000000   \n",
       "621  0.000559  0.000158  0.000036  0.000000  0.000000  0.000012  0.000012   \n",
       "622  0.001033  0.000219  0.000085  0.000024  0.000000  0.000000  0.000000   \n",
       "623  0.001604  0.000535  0.000231  0.000036  0.000049  0.000012  0.000012   \n",
       "624  0.002175  0.000972  0.000547  0.000194  0.000061  0.000049  0.000024   \n",
       "625  0.003062  0.001823  0.000911  0.000462  0.000146  0.000049  0.000085   \n",
       "626  0.003742  0.002685  0.001507  0.001094  0.000462  0.000243  0.000219   \n",
       "627  0.003840  0.003244  0.002078  0.001689  0.000887  0.000608  0.000522   \n",
       "628  0.004435  0.004581  0.003791  0.002661  0.001701  0.001215  0.001276   \n",
       "629  0.004386  0.005128  0.005176  0.004277  0.002710  0.002406  0.002078   \n",
       "630  0.004107  0.005674  0.005723  0.004933  0.004301  0.003426  0.003426   \n",
       "631  0.004155  0.004812  0.005711  0.005674  0.005735  0.005115  0.004727   \n",
       "632  0.003038  0.004508  0.005152  0.005456  0.006124  0.005808  0.005589   \n",
       "633  0.002588  0.003086  0.004484  0.005018  0.006355  0.006245  0.006051   \n",
       "634  0.001555  0.002491  0.003390  0.004301  0.004702  0.005626  0.005893   \n",
       "636  0.000863  0.001470  0.002090  0.003062  0.004289  0.004885  0.005115   \n",
       "637  0.000693  0.000863  0.001106  0.001883  0.002527  0.003390  0.003524   \n",
       "638  0.000365  0.000304  0.000510  0.000972  0.001689  0.001944  0.002272   \n",
       "639  0.000134  0.000158  0.000170  0.000790  0.000693  0.001191  0.001288   \n",
       "640  0.000012  0.000061  0.000097  0.000255  0.000340  0.000535  0.000595   \n",
       "641  0.000012  0.000012  0.000024  0.000085  0.000109  0.000255  0.000194   \n",
       "642  0.000012  0.000012  0.000012  0.000036  0.000061  0.000024  0.000122   \n",
       "643  0.000000  0.000000  0.000000  0.000000  0.000024  0.000000  0.000024   \n",
       "644  0.000000  0.000000  0.000000  0.000000  0.000000  0.000000  0.000000   \n",
       "645  0.000000  0.000000  0.000000  0.000000  0.000000  0.000000  0.000012   \n",
       "\n",
       "           7         8         9   ...        14        15        16  \\\n",
       "607  0.000000  0.000000  0.000000  ...  0.000012  0.000000  0.000000   \n",
       "608  0.000000  0.000000  0.000000  ...  0.000012  0.000000  0.000000   \n",
       "609  0.000000  0.000000  0.000000  ...  0.000000  0.000024  0.000000   \n",
       "610  0.000000  0.000000  0.000000  ...  0.000036  0.000049  0.000000   \n",
       "611  0.000000  0.000000  0.000000  ...  0.000146  0.000122  0.000000   \n",
       "612  0.000000  0.000000  0.000000  ...  0.000219  0.000316  0.000000   \n",
       "613  0.000000  0.000000  0.000000  ...  0.000620  0.000644  0.000024   \n",
       "615  0.000000  0.000000  0.000000  ...  0.001300  0.001045  0.000024   \n",
       "616  0.000000  0.000000  0.000000  ...  0.001956  0.001810  0.000219   \n",
       "617  0.000000  0.000000  0.000000  ...  0.003111  0.002928  0.000510   \n",
       "618  0.000000  0.000000  0.000000  ...  0.004326  0.003791  0.001106   \n",
       "619  0.000000  0.000000  0.000000  ...  0.004982  0.004301  0.001810   \n",
       "620  0.000000  0.000000  0.000000  ...  0.005140  0.005371  0.002892   \n",
       "621  0.000000  0.000000  0.000000  ...  0.004921  0.005650  0.003912   \n",
       "622  0.000000  0.000000  0.000061  ...  0.004799  0.005030  0.005407   \n",
       "623  0.000024  0.000012  0.000036  ...  0.003985  0.003888  0.006185   \n",
       "624  0.000049  0.000097  0.000134  ...  0.002782  0.003171  0.005553   \n",
       "625  0.000109  0.000292  0.000413  ...  0.001823  0.002248  0.005152   \n",
       "626  0.000377  0.000559  0.000668  ...  0.001349  0.001434  0.003755   \n",
       "627  0.000571  0.000923  0.001094  ...  0.000778  0.000717  0.002880   \n",
       "628  0.001434  0.001738  0.001871  ...  0.000389  0.000340  0.001677   \n",
       "629  0.002418  0.003111  0.003147  ...  0.000279  0.000109  0.000996   \n",
       "630  0.003621  0.004338  0.003633  ...  0.000158  0.000085  0.000608   \n",
       "631  0.005042  0.005128  0.003912  ...  0.000036  0.000024  0.000243   \n",
       "632  0.006209  0.005176  0.004313  ...  0.000012  0.000024  0.000073   \n",
       "633  0.006172  0.004994  0.003208  ...  0.000000  0.000000  0.000036   \n",
       "634  0.005614  0.004374  0.002661  ...  0.000012  0.000000  0.000000   \n",
       "636  0.004338  0.003426  0.001725  ...  0.000000  0.000000  0.000000   \n",
       "637  0.003098  0.002126  0.000923  ...  0.000000  0.000000  0.000000   \n",
       "638  0.001956  0.001409  0.000486  ...  0.000000  0.000000  0.000000   \n",
       "639  0.001069  0.000522  0.000279  ...  0.000000  0.000000  0.000000   \n",
       "640  0.000571  0.000352  0.000061  ...  0.000000  0.000000  0.000000   \n",
       "641  0.000194  0.000073  0.000024  ...  0.000000  0.000000  0.000000   \n",
       "642  0.000085  0.000024  0.000000  ...  0.000000  0.000000  0.000000   \n",
       "643  0.000049  0.000012  0.000000  ...  0.000000  0.000000  0.000000   \n",
       "644  0.000000  0.000024  0.000000  ...  0.000000  0.000000  0.000000   \n",
       "645  0.000000  0.000000  0.000000  ...  0.000000  0.000000  0.000000   \n",
       "\n",
       "           17        18        19        20        21        22        23  \n",
       "607  0.000000  0.000000  0.000000  0.000000  0.000000  0.000000  0.000000  \n",
       "608  0.000000  0.000000  0.000000  0.000012  0.000012  0.000000  0.000000  \n",
       "609  0.000000  0.000000  0.000000  0.000000  0.000012  0.000012  0.000000  \n",
       "610  0.000000  0.000012  0.000012  0.000134  0.000000  0.000000  0.000000  \n",
       "611  0.000000  0.000000  0.000024  0.000073  0.000146  0.000049  0.000000  \n",
       "612  0.000036  0.000036  0.000061  0.000255  0.000194  0.000024  0.000012  \n",
       "613  0.000182  0.000061  0.000219  0.000680  0.000437  0.000109  0.000024  \n",
       "615  0.000207  0.000267  0.000377  0.000984  0.001021  0.000474  0.000049  \n",
       "616  0.000595  0.000595  0.001021  0.001725  0.001397  0.000595  0.000085  \n",
       "617  0.001264  0.000923  0.001640  0.002211  0.002296  0.001021  0.000146  \n",
       "618  0.001750  0.001774  0.002272  0.002916  0.003135  0.001908  0.000401  \n",
       "619  0.002697  0.002309  0.003341  0.003657  0.003475  0.002539  0.000729  \n",
       "620  0.003013  0.002710  0.004119  0.003900  0.003621  0.002685  0.001021  \n",
       "621  0.003706  0.003196  0.004435  0.003512  0.003985  0.003451  0.001895  \n",
       "622  0.004411  0.004180  0.003755  0.003062  0.003038  0.003475  0.002333  \n",
       "623  0.004471  0.003864  0.002710  0.002357  0.002345  0.003268  0.003268  \n",
       "624  0.004338  0.004301  0.002539  0.001835  0.001944  0.002685  0.003475  \n",
       "625  0.003937  0.003669  0.001847  0.001106  0.001349  0.002369  0.003062  \n",
       "626  0.003402  0.003524  0.001944  0.001252  0.001057  0.002066  0.003548  \n",
       "627  0.003074  0.003147  0.001981  0.001130  0.001215  0.001859  0.003196  \n",
       "628  0.002187  0.002697  0.002041  0.001567  0.001324  0.001908  0.003244  \n",
       "629  0.001774  0.002151  0.001859  0.001883  0.001981  0.001993  0.003038  \n",
       "630  0.001118  0.001677  0.002090  0.002199  0.002151  0.002260  0.002831  \n",
       "631  0.000450  0.000875  0.001738  0.002029  0.002236  0.002248  0.002928  \n",
       "632  0.000231  0.000498  0.001324  0.001665  0.001592  0.002005  0.002503  \n",
       "633  0.000182  0.000279  0.000875  0.001373  0.001264  0.001531  0.002163  \n",
       "634  0.000073  0.000207  0.000437  0.000875  0.000838  0.001154  0.001495  \n",
       "636  0.000024  0.000061  0.000255  0.000437  0.000535  0.000693  0.000729  \n",
       "637  0.000000  0.000024  0.000085  0.000170  0.000292  0.000340  0.000522  \n",
       "638  0.000000  0.000000  0.000061  0.000122  0.000049  0.000194  0.000134  \n",
       "639  0.000000  0.000012  0.000012  0.000036  0.000024  0.000097  0.000158  \n",
       "640  0.000000  0.000000  0.000012  0.000000  0.000012  0.000036  0.000036  \n",
       "641  0.000000  0.000000  0.000000  0.000000  0.000000  0.000000  0.000000  \n",
       "642  0.000000  0.000000  0.000000  0.000000  0.000000  0.000000  0.000012  \n",
       "643  0.000000  0.000000  0.000000  0.000000  0.000000  0.000000  0.000000  \n",
       "644  0.000000  0.000000  0.000000  0.000000  0.000000  0.000000  0.000000  \n",
       "645  0.000000  0.000000  0.000000  0.000000  0.000000  0.000000  0.000000  \n",
       "\n",
       "[37 rows x 24 columns]"
      ]
     },
     "execution_count": 97,
     "metadata": {},
     "output_type": "execute_result"
    }
   ],
   "source": [
    "each_hour = {i : d.lidar.get_group(i).value_counts().sort_index() for i in range(24)}\n",
    "freqs = pd.concat(each_hour, axis=1)\n",
    "freqs = freqs.fillna(0)\n",
    "probs=freqs/len(data)\n",
    "\n",
    "probs"
   ]
  },
  {
   "cell_type": "code",
   "execution_count": 100,
   "metadata": {},
   "outputs": [
    {
     "data": {
      "text/plain": [
       "<matplotlib.axes._subplots.AxesSubplot at 0x129003dd0>"
      ]
     },
     "execution_count": 100,
     "metadata": {},
     "output_type": "execute_result"
    },
    {
     "data": {
      "image/png": "[encoded data removed]",
      "text/plain": [
       "<Figure size 432x288 with 2 Axes>"
      ]
     },
     "metadata": {
      "needs_background": "light"
     },
     "output_type": "display_data"
    }
   ],
   "source": [
    "import seaborn as sns\n",
    "sns.heatmap(probs)"
   ]
  },
  {
   "cell_type": "code",
   "execution_count": 102,
   "metadata": {},
   "outputs": [
    {
     "data": {
      "text/plain": [
       "<seaborn.axisgrid.JointGrid at 0x1299879d0>"
      ]
     },
     "execution_count": 102,
     "metadata": {},
     "output_type": "execute_result"
    },
    {
     "data": {
      "image/png": "[encoded data removed]",
      "text/plain": [
       "<Figure size 432x432 with 3 Axes>"
      ]
     },
     "metadata": {
      "needs_background": "light"
     },
     "output_type": "display_data"
    }
   ],
   "source": [
    "sns.jointplot(data[\"hour\"], data[\"lidar\"], kind=\"kde\")"
   ]
  },
  {
   "cell_type": "code",
   "execution_count": 104,
   "metadata": {},
   "outputs": [
    {
     "data": {
      "text/html": [
       "<div>\n",
       "<style scoped>\n",
       "    .dataframe tbody tr th:only-of-type {\n",
       "        vertical-align: middle;\n",
       "    }\n",
       "\n",
       "    .dataframe tbody tr th {\n",
       "        vertical-align: top;\n",
       "    }\n",
       "\n",
       "    .dataframe thead th {\n",
       "        text-align: right;\n",
       "    }\n",
       "</style>\n",
       "<table border=\"1\" class=\"dataframe\">\n",
       "  <thead>\n",
       "    <tr style=\"text-align: right;\">\n",
       "      <th></th>\n",
       "      <th>0</th>\n",
       "      <th>1</th>\n",
       "      <th>2</th>\n",
       "      <th>3</th>\n",
       "      <th>4</th>\n",
       "      <th>5</th>\n",
       "      <th>6</th>\n",
       "      <th>7</th>\n",
       "      <th>8</th>\n",
       "      <th>9</th>\n",
       "      <th>...</th>\n",
       "      <th>14</th>\n",
       "      <th>15</th>\n",
       "      <th>16</th>\n",
       "      <th>17</th>\n",
       "      <th>18</th>\n",
       "      <th>19</th>\n",
       "      <th>20</th>\n",
       "      <th>21</th>\n",
       "      <th>22</th>\n",
       "      <th>23</th>\n",
       "    </tr>\n",
       "  </thead>\n",
       "  <tbody>\n",
       "    <tr>\n",
       "      <th>0</th>\n",
       "      <td>0.043013</td>\n",
       "      <td>0.042916</td>\n",
       "      <td>0.042879</td>\n",
       "      <td>0.042916</td>\n",
       "      <td>0.042964</td>\n",
       "      <td>0.043037</td>\n",
       "      <td>0.043061</td>\n",
       "      <td>0.043001</td>\n",
       "      <td>0.038712</td>\n",
       "      <td>0.028651</td>\n",
       "      <td>...</td>\n",
       "      <td>0.043183</td>\n",
       "      <td>0.043122</td>\n",
       "      <td>0.043061</td>\n",
       "      <td>0.043122</td>\n",
       "      <td>0.043049</td>\n",
       "      <td>0.043086</td>\n",
       "      <td>0.043159</td>\n",
       "      <td>0.042976</td>\n",
       "      <td>0.043049</td>\n",
       "      <td>0.043037</td>\n",
       "    </tr>\n",
       "  </tbody>\n",
       "</table>\n",
       "<p>1 rows × 24 columns</p>\n",
       "</div>"
      ],
      "text/plain": [
       "         0         1         2         3         4         5         6   \\\n",
       "0  0.043013  0.042916  0.042879  0.042916  0.042964  0.043037  0.043061   \n",
       "\n",
       "         7         8         9   ...        14        15        16        17  \\\n",
       "0  0.043001  0.038712  0.028651  ...  0.043183  0.043122  0.043061  0.043122   \n",
       "\n",
       "         18        19        20        21        22        23  \n",
       "0  0.043049  0.043086  0.043159  0.042976  0.043049  0.043037  \n",
       "\n",
       "[1 rows x 24 columns]"
      ]
     },
     "execution_count": 104,
     "metadata": {},
     "output_type": "execute_result"
    },
    {
     "data": {
      "image/png": "[encoded data removed]",
      "text/plain": [
       "<Figure size 432x288 with 1 Axes>"
      ]
     },
     "metadata": {
      "needs_background": "light"
     },
     "output_type": "display_data"
    }
   ],
   "source": [
    "p_t = pd.DataFrame(probs.sum())\n",
    "p_t.plot()\n",
    "p_t.transpose()"
   ]
  },
  {
   "cell_type": "code",
   "execution_count": 105,
   "metadata": {},
   "outputs": [
    {
     "data": {
      "text/plain": [
       "0    1.0\n",
       "dtype: float64"
      ]
     },
     "execution_count": 105,
     "metadata": {},
     "output_type": "execute_result"
    }
   ],
   "source": [
    "p_t.sum()"
   ]
  },
  {
   "cell_type": "code",
   "execution_count": 106,
   "metadata": {},
   "outputs": [
    {
     "data": {
      "text/html": [
       "<div>\n",
       "<style scoped>\n",
       "    .dataframe tbody tr th:only-of-type {\n",
       "        vertical-align: middle;\n",
       "    }\n",
       "\n",
       "    .dataframe tbody tr th {\n",
       "        vertical-align: top;\n",
       "    }\n",
       "\n",
       "    .dataframe thead th {\n",
       "        text-align: right;\n",
       "    }\n",
       "</style>\n",
       "<table border=\"1\" class=\"dataframe\">\n",
       "  <thead>\n",
       "    <tr style=\"text-align: right;\">\n",
       "      <th></th>\n",
       "      <th>607</th>\n",
       "      <th>608</th>\n",
       "      <th>609</th>\n",
       "      <th>610</th>\n",
       "      <th>611</th>\n",
       "      <th>612</th>\n",
       "      <th>613</th>\n",
       "      <th>615</th>\n",
       "      <th>616</th>\n",
       "      <th>617</th>\n",
       "      <th>...</th>\n",
       "      <th>636</th>\n",
       "      <th>637</th>\n",
       "      <th>638</th>\n",
       "      <th>639</th>\n",
       "      <th>640</th>\n",
       "      <th>641</th>\n",
       "      <th>642</th>\n",
       "      <th>643</th>\n",
       "      <th>644</th>\n",
       "      <th>645</th>\n",
       "    </tr>\n",
       "  </thead>\n",
       "  <tbody>\n",
       "    <tr>\n",
       "      <th>0</th>\n",
       "      <td>0.000012</td>\n",
       "      <td>0.000049</td>\n",
       "      <td>0.000061</td>\n",
       "      <td>0.000328</td>\n",
       "      <td>0.00068</td>\n",
       "      <td>0.00158</td>\n",
       "      <td>0.004241</td>\n",
       "      <td>0.007752</td>\n",
       "      <td>0.013852</td>\n",
       "      <td>0.022053</td>\n",
       "      <td>...</td>\n",
       "      <td>0.03537</td>\n",
       "      <td>0.02226</td>\n",
       "      <td>0.012819</td>\n",
       "      <td>0.006671</td>\n",
       "      <td>0.002989</td>\n",
       "      <td>0.000996</td>\n",
       "      <td>0.000401</td>\n",
       "      <td>0.000109</td>\n",
       "      <td>0.000024</td>\n",
       "      <td>0.000012</td>\n",
       "    </tr>\n",
       "  </tbody>\n",
       "</table>\n",
       "<p>1 rows × 37 columns</p>\n",
       "</div>"
      ],
      "text/plain": [
       "        607       608       609       610      611      612       613  \\\n",
       "0  0.000012  0.000049  0.000061  0.000328  0.00068  0.00158  0.004241   \n",
       "\n",
       "        615       616       617  ...      636      637       638       639  \\\n",
       "0  0.007752  0.013852  0.022053  ...  0.03537  0.02226  0.012819  0.006671   \n",
       "\n",
       "        640       641       642       643       644       645  \n",
       "0  0.002989  0.000996  0.000401  0.000109  0.000024  0.000012  \n",
       "\n",
       "[1 rows x 37 columns]"
      ]
     },
     "execution_count": 106,
     "metadata": {},
     "output_type": "execute_result"
    },
    {
     "data": {
      "image/png": "[encoded data removed]",
      "text/plain": [
       "<Figure size 432x288 with 1 Axes>"
      ]
     },
     "metadata": {
      "needs_background": "light"
     },
     "output_type": "display_data"
    }
   ],
   "source": [
    "p_z = pd.DataFrame(probs.transpose().sum())\n",
    "p_z.plot()\n",
    "p_z.transpose()"
   ]
  },
  {
   "cell_type": "markdown",
   "metadata": {},
   "source": [
    "確率の加法定理が成り立っていることが確認できた。$P(x, y)$から変数(次元)を落として作った$P(x)$や$P(y)$の値を周辺確率という。\n",
    "同時確率$P(z, t)$と$P(z|t)$の関係について\n",
    "$$\n",
    "    P(z | t) = P(z, t) / P(t)\n",
    "$$\n",
    "となる。"
   ]
  },
  {
   "cell_type": "code",
   "execution_count": 107,
   "metadata": {},
   "outputs": [
    {
     "data": {
      "text/html": [
       "<div>\n",
       "<style scoped>\n",
       "    .dataframe tbody tr th:only-of-type {\n",
       "        vertical-align: middle;\n",
       "    }\n",
       "\n",
       "    .dataframe tbody tr th {\n",
       "        vertical-align: top;\n",
       "    }\n",
       "\n",
       "    .dataframe thead th {\n",
       "        text-align: right;\n",
       "    }\n",
       "</style>\n",
       "<table border=\"1\" class=\"dataframe\">\n",
       "  <thead>\n",
       "    <tr style=\"text-align: right;\">\n",
       "      <th></th>\n",
       "      <th>0</th>\n",
       "      <th>1</th>\n",
       "      <th>2</th>\n",
       "      <th>3</th>\n",
       "      <th>4</th>\n",
       "      <th>5</th>\n",
       "      <th>6</th>\n",
       "      <th>7</th>\n",
       "      <th>8</th>\n",
       "      <th>9</th>\n",
       "      <th>...</th>\n",
       "      <th>14</th>\n",
       "      <th>15</th>\n",
       "      <th>16</th>\n",
       "      <th>17</th>\n",
       "      <th>18</th>\n",
       "      <th>19</th>\n",
       "      <th>20</th>\n",
       "      <th>21</th>\n",
       "      <th>22</th>\n",
       "      <th>23</th>\n",
       "    </tr>\n",
       "  </thead>\n",
       "  <tbody>\n",
       "    <tr>\n",
       "      <th>607</th>\n",
       "      <td>0.000000</td>\n",
       "      <td>0.000000</td>\n",
       "      <td>0.000000</td>\n",
       "      <td>0.000000</td>\n",
       "      <td>0.000000</td>\n",
       "      <td>0.000000</td>\n",
       "      <td>0.000000</td>\n",
       "      <td>0.000000</td>\n",
       "      <td>0.000000</td>\n",
       "      <td>0.000000</td>\n",
       "      <td>...</td>\n",
       "      <td>0.000281</td>\n",
       "      <td>0.000000</td>\n",
       "      <td>0.000000</td>\n",
       "      <td>0.000000</td>\n",
       "      <td>0.000000</td>\n",
       "      <td>0.000000</td>\n",
       "      <td>0.000000</td>\n",
       "      <td>0.000000</td>\n",
       "      <td>0.000000</td>\n",
       "      <td>0.000000</td>\n",
       "    </tr>\n",
       "    <tr>\n",
       "      <th>608</th>\n",
       "      <td>0.000000</td>\n",
       "      <td>0.000000</td>\n",
       "      <td>0.000000</td>\n",
       "      <td>0.000000</td>\n",
       "      <td>0.000000</td>\n",
       "      <td>0.000000</td>\n",
       "      <td>0.000000</td>\n",
       "      <td>0.000000</td>\n",
       "      <td>0.000000</td>\n",
       "      <td>0.000000</td>\n",
       "      <td>...</td>\n",
       "      <td>0.000281</td>\n",
       "      <td>0.000000</td>\n",
       "      <td>0.000000</td>\n",
       "      <td>0.000000</td>\n",
       "      <td>0.000000</td>\n",
       "      <td>0.000000</td>\n",
       "      <td>0.000282</td>\n",
       "      <td>0.000283</td>\n",
       "      <td>0.000000</td>\n",
       "      <td>0.000000</td>\n",
       "    </tr>\n",
       "    <tr>\n",
       "      <th>609</th>\n",
       "      <td>0.000000</td>\n",
       "      <td>0.000000</td>\n",
       "      <td>0.000000</td>\n",
       "      <td>0.000000</td>\n",
       "      <td>0.000000</td>\n",
       "      <td>0.000000</td>\n",
       "      <td>0.000000</td>\n",
       "      <td>0.000000</td>\n",
       "      <td>0.000000</td>\n",
       "      <td>0.000000</td>\n",
       "      <td>...</td>\n",
       "      <td>0.000000</td>\n",
       "      <td>0.000564</td>\n",
       "      <td>0.000000</td>\n",
       "      <td>0.000000</td>\n",
       "      <td>0.000000</td>\n",
       "      <td>0.000000</td>\n",
       "      <td>0.000000</td>\n",
       "      <td>0.000283</td>\n",
       "      <td>0.000282</td>\n",
       "      <td>0.000000</td>\n",
       "    </tr>\n",
       "    <tr>\n",
       "      <th>610</th>\n",
       "      <td>0.000000</td>\n",
       "      <td>0.000000</td>\n",
       "      <td>0.000000</td>\n",
       "      <td>0.000000</td>\n",
       "      <td>0.000000</td>\n",
       "      <td>0.000000</td>\n",
       "      <td>0.000000</td>\n",
       "      <td>0.000000</td>\n",
       "      <td>0.000000</td>\n",
       "      <td>0.000000</td>\n",
       "      <td>...</td>\n",
       "      <td>0.000844</td>\n",
       "      <td>0.001127</td>\n",
       "      <td>0.000000</td>\n",
       "      <td>0.000000</td>\n",
       "      <td>0.000282</td>\n",
       "      <td>0.000282</td>\n",
       "      <td>0.003097</td>\n",
       "      <td>0.000000</td>\n",
       "      <td>0.000000</td>\n",
       "      <td>0.000000</td>\n",
       "    </tr>\n",
       "    <tr>\n",
       "      <th>611</th>\n",
       "      <td>0.000000</td>\n",
       "      <td>0.000000</td>\n",
       "      <td>0.000000</td>\n",
       "      <td>0.000000</td>\n",
       "      <td>0.000000</td>\n",
       "      <td>0.000000</td>\n",
       "      <td>0.000000</td>\n",
       "      <td>0.000000</td>\n",
       "      <td>0.000000</td>\n",
       "      <td>0.000000</td>\n",
       "      <td>...</td>\n",
       "      <td>0.003376</td>\n",
       "      <td>0.002818</td>\n",
       "      <td>0.000000</td>\n",
       "      <td>0.000000</td>\n",
       "      <td>0.000000</td>\n",
       "      <td>0.000564</td>\n",
       "      <td>0.001689</td>\n",
       "      <td>0.003393</td>\n",
       "      <td>0.001129</td>\n",
       "      <td>0.000000</td>\n",
       "    </tr>\n",
       "    <tr>\n",
       "      <th>612</th>\n",
       "      <td>0.000000</td>\n",
       "      <td>0.000000</td>\n",
       "      <td>0.000000</td>\n",
       "      <td>0.000000</td>\n",
       "      <td>0.000000</td>\n",
       "      <td>0.000000</td>\n",
       "      <td>0.000000</td>\n",
       "      <td>0.000000</td>\n",
       "      <td>0.000000</td>\n",
       "      <td>0.000000</td>\n",
       "      <td>...</td>\n",
       "      <td>0.005065</td>\n",
       "      <td>0.007326</td>\n",
       "      <td>0.000000</td>\n",
       "      <td>0.000845</td>\n",
       "      <td>0.000847</td>\n",
       "      <td>0.001410</td>\n",
       "      <td>0.005912</td>\n",
       "      <td>0.004524</td>\n",
       "      <td>0.000564</td>\n",
       "      <td>0.000282</td>\n",
       "    </tr>\n",
       "    <tr>\n",
       "      <th>613</th>\n",
       "      <td>0.000000</td>\n",
       "      <td>0.000000</td>\n",
       "      <td>0.000000</td>\n",
       "      <td>0.000000</td>\n",
       "      <td>0.000000</td>\n",
       "      <td>0.000000</td>\n",
       "      <td>0.000000</td>\n",
       "      <td>0.000000</td>\n",
       "      <td>0.000000</td>\n",
       "      <td>0.000000</td>\n",
       "      <td>...</td>\n",
       "      <td>0.014350</td>\n",
       "      <td>0.014934</td>\n",
       "      <td>0.000564</td>\n",
       "      <td>0.004227</td>\n",
       "      <td>0.001411</td>\n",
       "      <td>0.005076</td>\n",
       "      <td>0.015766</td>\n",
       "      <td>0.010178</td>\n",
       "      <td>0.002540</td>\n",
       "      <td>0.000565</td>\n",
       "    </tr>\n",
       "    <tr>\n",
       "      <th>615</th>\n",
       "      <td>0.000000</td>\n",
       "      <td>0.000000</td>\n",
       "      <td>0.000000</td>\n",
       "      <td>0.000000</td>\n",
       "      <td>0.000000</td>\n",
       "      <td>0.000000</td>\n",
       "      <td>0.000000</td>\n",
       "      <td>0.000000</td>\n",
       "      <td>0.000000</td>\n",
       "      <td>0.000000</td>\n",
       "      <td>...</td>\n",
       "      <td>0.030107</td>\n",
       "      <td>0.024232</td>\n",
       "      <td>0.000564</td>\n",
       "      <td>0.004790</td>\n",
       "      <td>0.006209</td>\n",
       "      <td>0.008742</td>\n",
       "      <td>0.022804</td>\n",
       "      <td>0.023749</td>\n",
       "      <td>0.011008</td>\n",
       "      <td>0.001129</td>\n",
       "    </tr>\n",
       "    <tr>\n",
       "      <th>616</th>\n",
       "      <td>0.000000</td>\n",
       "      <td>0.000000</td>\n",
       "      <td>0.000000</td>\n",
       "      <td>0.000000</td>\n",
       "      <td>0.000000</td>\n",
       "      <td>0.000000</td>\n",
       "      <td>0.000000</td>\n",
       "      <td>0.000000</td>\n",
       "      <td>0.000000</td>\n",
       "      <td>0.000000</td>\n",
       "      <td>...</td>\n",
       "      <td>0.045301</td>\n",
       "      <td>0.041984</td>\n",
       "      <td>0.005079</td>\n",
       "      <td>0.013807</td>\n",
       "      <td>0.013830</td>\n",
       "      <td>0.023689</td>\n",
       "      <td>0.039977</td>\n",
       "      <td>0.032513</td>\n",
       "      <td>0.013830</td>\n",
       "      <td>0.001976</td>\n",
       "    </tr>\n",
       "    <tr>\n",
       "      <th>617</th>\n",
       "      <td>0.000000</td>\n",
       "      <td>0.000000</td>\n",
       "      <td>0.000000</td>\n",
       "      <td>0.000000</td>\n",
       "      <td>0.000000</td>\n",
       "      <td>0.000000</td>\n",
       "      <td>0.000000</td>\n",
       "      <td>0.000000</td>\n",
       "      <td>0.000000</td>\n",
       "      <td>0.000000</td>\n",
       "      <td>...</td>\n",
       "      <td>0.072032</td>\n",
       "      <td>0.067906</td>\n",
       "      <td>0.011851</td>\n",
       "      <td>0.029304</td>\n",
       "      <td>0.021451</td>\n",
       "      <td>0.038071</td>\n",
       "      <td>0.051239</td>\n",
       "      <td>0.053435</td>\n",
       "      <td>0.023709</td>\n",
       "      <td>0.003388</td>\n",
       "    </tr>\n",
       "    <tr>\n",
       "      <th>618</th>\n",
       "      <td>0.000847</td>\n",
       "      <td>0.000000</td>\n",
       "      <td>0.000000</td>\n",
       "      <td>0.000000</td>\n",
       "      <td>0.000000</td>\n",
       "      <td>0.000000</td>\n",
       "      <td>0.000000</td>\n",
       "      <td>0.000000</td>\n",
       "      <td>0.000000</td>\n",
       "      <td>0.000000</td>\n",
       "      <td>...</td>\n",
       "      <td>0.100169</td>\n",
       "      <td>0.087912</td>\n",
       "      <td>0.025677</td>\n",
       "      <td>0.040575</td>\n",
       "      <td>0.041208</td>\n",
       "      <td>0.052735</td>\n",
       "      <td>0.067568</td>\n",
       "      <td>0.072943</td>\n",
       "      <td>0.044313</td>\n",
       "      <td>0.009317</td>\n",
       "    </tr>\n",
       "    <tr>\n",
       "      <th>619</th>\n",
       "      <td>0.005085</td>\n",
       "      <td>0.001133</td>\n",
       "      <td>0.000283</td>\n",
       "      <td>0.000000</td>\n",
       "      <td>0.000000</td>\n",
       "      <td>0.000000</td>\n",
       "      <td>0.000000</td>\n",
       "      <td>0.000000</td>\n",
       "      <td>0.000000</td>\n",
       "      <td>0.000000</td>\n",
       "      <td>...</td>\n",
       "      <td>0.115363</td>\n",
       "      <td>0.099746</td>\n",
       "      <td>0.042043</td>\n",
       "      <td>0.062553</td>\n",
       "      <td>0.053627</td>\n",
       "      <td>0.077552</td>\n",
       "      <td>0.084741</td>\n",
       "      <td>0.080859</td>\n",
       "      <td>0.058990</td>\n",
       "      <td>0.016940</td>\n",
       "    </tr>\n",
       "    <tr>\n",
       "      <th>620</th>\n",
       "      <td>0.009040</td>\n",
       "      <td>0.001699</td>\n",
       "      <td>0.000850</td>\n",
       "      <td>0.000283</td>\n",
       "      <td>0.000000</td>\n",
       "      <td>0.000000</td>\n",
       "      <td>0.000000</td>\n",
       "      <td>0.000000</td>\n",
       "      <td>0.000000</td>\n",
       "      <td>0.000000</td>\n",
       "      <td>...</td>\n",
       "      <td>0.119021</td>\n",
       "      <td>0.124542</td>\n",
       "      <td>0.067156</td>\n",
       "      <td>0.069879</td>\n",
       "      <td>0.062941</td>\n",
       "      <td>0.095601</td>\n",
       "      <td>0.090372</td>\n",
       "      <td>0.084252</td>\n",
       "      <td>0.062377</td>\n",
       "      <td>0.023715</td>\n",
       "    </tr>\n",
       "    <tr>\n",
       "      <th>621</th>\n",
       "      <td>0.012994</td>\n",
       "      <td>0.003681</td>\n",
       "      <td>0.000850</td>\n",
       "      <td>0.000000</td>\n",
       "      <td>0.000000</td>\n",
       "      <td>0.000282</td>\n",
       "      <td>0.000282</td>\n",
       "      <td>0.000000</td>\n",
       "      <td>0.000000</td>\n",
       "      <td>0.000000</td>\n",
       "      <td>...</td>\n",
       "      <td>0.113956</td>\n",
       "      <td>0.131023</td>\n",
       "      <td>0.090858</td>\n",
       "      <td>0.085940</td>\n",
       "      <td>0.074231</td>\n",
       "      <td>0.102933</td>\n",
       "      <td>0.081363</td>\n",
       "      <td>0.092734</td>\n",
       "      <td>0.080158</td>\n",
       "      <td>0.044043</td>\n",
       "    </tr>\n",
       "    <tr>\n",
       "      <th>622</th>\n",
       "      <td>0.024011</td>\n",
       "      <td>0.005096</td>\n",
       "      <td>0.001984</td>\n",
       "      <td>0.000566</td>\n",
       "      <td>0.000000</td>\n",
       "      <td>0.000000</td>\n",
       "      <td>0.000000</td>\n",
       "      <td>0.000000</td>\n",
       "      <td>0.000000</td>\n",
       "      <td>0.002120</td>\n",
       "      <td>...</td>\n",
       "      <td>0.111142</td>\n",
       "      <td>0.116653</td>\n",
       "      <td>0.125564</td>\n",
       "      <td>0.102282</td>\n",
       "      <td>0.097093</td>\n",
       "      <td>0.087140</td>\n",
       "      <td>0.070946</td>\n",
       "      <td>0.070681</td>\n",
       "      <td>0.080723</td>\n",
       "      <td>0.054207</td>\n",
       "    </tr>\n",
       "    <tr>\n",
       "      <th>623</th>\n",
       "      <td>0.037288</td>\n",
       "      <td>0.012458</td>\n",
       "      <td>0.005384</td>\n",
       "      <td>0.000849</td>\n",
       "      <td>0.001131</td>\n",
       "      <td>0.000282</td>\n",
       "      <td>0.000282</td>\n",
       "      <td>0.000565</td>\n",
       "      <td>0.000314</td>\n",
       "      <td>0.001272</td>\n",
       "      <td>...</td>\n",
       "      <td>0.092290</td>\n",
       "      <td>0.090166</td>\n",
       "      <td>0.143623</td>\n",
       "      <td>0.103691</td>\n",
       "      <td>0.089754</td>\n",
       "      <td>0.062888</td>\n",
       "      <td>0.054617</td>\n",
       "      <td>0.054566</td>\n",
       "      <td>0.075924</td>\n",
       "      <td>0.075946</td>\n",
       "    </tr>\n",
       "    <tr>\n",
       "      <th>624</th>\n",
       "      <td>0.050565</td>\n",
       "      <td>0.022650</td>\n",
       "      <td>0.012751</td>\n",
       "      <td>0.004530</td>\n",
       "      <td>0.001414</td>\n",
       "      <td>0.001129</td>\n",
       "      <td>0.000564</td>\n",
       "      <td>0.001130</td>\n",
       "      <td>0.002511</td>\n",
       "      <td>0.004665</td>\n",
       "      <td>...</td>\n",
       "      <td>0.064434</td>\n",
       "      <td>0.073542</td>\n",
       "      <td>0.128950</td>\n",
       "      <td>0.100592</td>\n",
       "      <td>0.099915</td>\n",
       "      <td>0.058940</td>\n",
       "      <td>0.042511</td>\n",
       "      <td>0.045236</td>\n",
       "      <td>0.062377</td>\n",
       "      <td>0.080745</td>\n",
       "    </tr>\n",
       "    <tr>\n",
       "      <th>625</th>\n",
       "      <td>0.071186</td>\n",
       "      <td>0.042469</td>\n",
       "      <td>0.021252</td>\n",
       "      <td>0.010759</td>\n",
       "      <td>0.003394</td>\n",
       "      <td>0.001129</td>\n",
       "      <td>0.001975</td>\n",
       "      <td>0.002543</td>\n",
       "      <td>0.007533</td>\n",
       "      <td>0.014419</td>\n",
       "      <td>...</td>\n",
       "      <td>0.042206</td>\n",
       "      <td>0.052127</td>\n",
       "      <td>0.119639</td>\n",
       "      <td>0.091293</td>\n",
       "      <td>0.085238</td>\n",
       "      <td>0.042865</td>\n",
       "      <td>0.025619</td>\n",
       "      <td>0.031383</td>\n",
       "      <td>0.055038</td>\n",
       "      <td>0.071146</td>\n",
       "    </tr>\n",
       "    <tr>\n",
       "      <th>626</th>\n",
       "      <td>0.087006</td>\n",
       "      <td>0.062571</td>\n",
       "      <td>0.035137</td>\n",
       "      <td>0.025481</td>\n",
       "      <td>0.010747</td>\n",
       "      <td>0.005647</td>\n",
       "      <td>0.005079</td>\n",
       "      <td>0.008760</td>\n",
       "      <td>0.014438</td>\n",
       "      <td>0.023325</td>\n",
       "      <td>...</td>\n",
       "      <td>0.031232</td>\n",
       "      <td>0.033249</td>\n",
       "      <td>0.087190</td>\n",
       "      <td>0.078895</td>\n",
       "      <td>0.081852</td>\n",
       "      <td>0.045121</td>\n",
       "      <td>0.028998</td>\n",
       "      <td>0.024597</td>\n",
       "      <td>0.047982</td>\n",
       "      <td>0.082439</td>\n",
       "    </tr>\n",
       "    <tr>\n",
       "      <th>627</th>\n",
       "      <td>0.089266</td>\n",
       "      <td>0.075595</td>\n",
       "      <td>0.048456</td>\n",
       "      <td>0.039354</td>\n",
       "      <td>0.020645</td>\n",
       "      <td>0.014116</td>\n",
       "      <td>0.012133</td>\n",
       "      <td>0.013281</td>\n",
       "      <td>0.023854</td>\n",
       "      <td>0.038168</td>\n",
       "      <td>...</td>\n",
       "      <td>0.018008</td>\n",
       "      <td>0.016624</td>\n",
       "      <td>0.066874</td>\n",
       "      <td>0.071288</td>\n",
       "      <td>0.073102</td>\n",
       "      <td>0.045967</td>\n",
       "      <td>0.026182</td>\n",
       "      <td>0.028273</td>\n",
       "      <td>0.043184</td>\n",
       "      <td>0.074252</td>\n",
       "    </tr>\n",
       "    <tr>\n",
       "      <th>628</th>\n",
       "      <td>0.103107</td>\n",
       "      <td>0.106738</td>\n",
       "      <td>0.088410</td>\n",
       "      <td>0.062005</td>\n",
       "      <td>0.039593</td>\n",
       "      <td>0.028233</td>\n",
       "      <td>0.029628</td>\n",
       "      <td>0.033343</td>\n",
       "      <td>0.044884</td>\n",
       "      <td>0.065310</td>\n",
       "      <td>...</td>\n",
       "      <td>0.009004</td>\n",
       "      <td>0.007890</td>\n",
       "      <td>0.038939</td>\n",
       "      <td>0.050719</td>\n",
       "      <td>0.062659</td>\n",
       "      <td>0.047377</td>\n",
       "      <td>0.036318</td>\n",
       "      <td>0.030817</td>\n",
       "      <td>0.044313</td>\n",
       "      <td>0.075381</td>\n",
       "    </tr>\n",
       "    <tr>\n",
       "      <th>629</th>\n",
       "      <td>0.101977</td>\n",
       "      <td>0.119479</td>\n",
       "      <td>0.120714</td>\n",
       "      <td>0.099660</td>\n",
       "      <td>0.063066</td>\n",
       "      <td>0.055901</td>\n",
       "      <td>0.048251</td>\n",
       "      <td>0.056231</td>\n",
       "      <td>0.080352</td>\n",
       "      <td>0.109839</td>\n",
       "      <td>...</td>\n",
       "      <td>0.006472</td>\n",
       "      <td>0.002536</td>\n",
       "      <td>0.023138</td>\n",
       "      <td>0.041138</td>\n",
       "      <td>0.049958</td>\n",
       "      <td>0.043147</td>\n",
       "      <td>0.043637</td>\n",
       "      <td>0.046084</td>\n",
       "      <td>0.046288</td>\n",
       "      <td>0.070582</td>\n",
       "    </tr>\n",
       "    <tr>\n",
       "      <th>630</th>\n",
       "      <td>0.095480</td>\n",
       "      <td>0.132220</td>\n",
       "      <td>0.133466</td>\n",
       "      <td>0.114949</td>\n",
       "      <td>0.100113</td>\n",
       "      <td>0.079616</td>\n",
       "      <td>0.079571</td>\n",
       "      <td>0.084205</td>\n",
       "      <td>0.112053</td>\n",
       "      <td>0.126802</td>\n",
       "      <td>...</td>\n",
       "      <td>0.003658</td>\n",
       "      <td>0.001972</td>\n",
       "      <td>0.014108</td>\n",
       "      <td>0.025923</td>\n",
       "      <td>0.038950</td>\n",
       "      <td>0.048505</td>\n",
       "      <td>0.050957</td>\n",
       "      <td>0.050042</td>\n",
       "      <td>0.052498</td>\n",
       "      <td>0.065782</td>\n",
       "    </tr>\n",
       "    <tr>\n",
       "      <th>631</th>\n",
       "      <td>0.096610</td>\n",
       "      <td>0.112118</td>\n",
       "      <td>0.133182</td>\n",
       "      <td>0.132220</td>\n",
       "      <td>0.133484</td>\n",
       "      <td>0.118859</td>\n",
       "      <td>0.109763</td>\n",
       "      <td>0.117265</td>\n",
       "      <td>0.132454</td>\n",
       "      <td>0.136556</td>\n",
       "      <td>...</td>\n",
       "      <td>0.000844</td>\n",
       "      <td>0.000564</td>\n",
       "      <td>0.005643</td>\n",
       "      <td>0.010425</td>\n",
       "      <td>0.020322</td>\n",
       "      <td>0.040327</td>\n",
       "      <td>0.047016</td>\n",
       "      <td>0.052021</td>\n",
       "      <td>0.052216</td>\n",
       "      <td>0.068041</td>\n",
       "    </tr>\n",
       "    <tr>\n",
       "      <th>632</th>\n",
       "      <td>0.070621</td>\n",
       "      <td>0.105040</td>\n",
       "      <td>0.120147</td>\n",
       "      <td>0.127123</td>\n",
       "      <td>0.142534</td>\n",
       "      <td>0.134952</td>\n",
       "      <td>0.129797</td>\n",
       "      <td>0.144391</td>\n",
       "      <td>0.133710</td>\n",
       "      <td>0.150551</td>\n",
       "      <td>...</td>\n",
       "      <td>0.000281</td>\n",
       "      <td>0.000564</td>\n",
       "      <td>0.001693</td>\n",
       "      <td>0.005354</td>\n",
       "      <td>0.011572</td>\n",
       "      <td>0.030739</td>\n",
       "      <td>0.038570</td>\n",
       "      <td>0.037037</td>\n",
       "      <td>0.046571</td>\n",
       "      <td>0.058159</td>\n",
       "    </tr>\n",
       "    <tr>\n",
       "      <th>633</th>\n",
       "      <td>0.060169</td>\n",
       "      <td>0.071914</td>\n",
       "      <td>0.104562</td>\n",
       "      <td>0.116931</td>\n",
       "      <td>0.147907</td>\n",
       "      <td>0.145116</td>\n",
       "      <td>0.140519</td>\n",
       "      <td>0.143543</td>\n",
       "      <td>0.129002</td>\n",
       "      <td>0.111959</td>\n",
       "      <td>...</td>\n",
       "      <td>0.000000</td>\n",
       "      <td>0.000000</td>\n",
       "      <td>0.000847</td>\n",
       "      <td>0.004227</td>\n",
       "      <td>0.006492</td>\n",
       "      <td>0.020305</td>\n",
       "      <td>0.031813</td>\n",
       "      <td>0.029403</td>\n",
       "      <td>0.035563</td>\n",
       "      <td>0.050254</td>\n",
       "    </tr>\n",
       "    <tr>\n",
       "      <th>634</th>\n",
       "      <td>0.036158</td>\n",
       "      <td>0.058041</td>\n",
       "      <td>0.079059</td>\n",
       "      <td>0.100227</td>\n",
       "      <td>0.109446</td>\n",
       "      <td>0.130717</td>\n",
       "      <td>0.136851</td>\n",
       "      <td>0.130545</td>\n",
       "      <td>0.112994</td>\n",
       "      <td>0.092875</td>\n",
       "      <td>...</td>\n",
       "      <td>0.000281</td>\n",
       "      <td>0.000000</td>\n",
       "      <td>0.000000</td>\n",
       "      <td>0.001691</td>\n",
       "      <td>0.004798</td>\n",
       "      <td>0.010152</td>\n",
       "      <td>0.020270</td>\n",
       "      <td>0.019508</td>\n",
       "      <td>0.026813</td>\n",
       "      <td>0.034726</td>\n",
       "    </tr>\n",
       "    <tr>\n",
       "      <th>636</th>\n",
       "      <td>0.020056</td>\n",
       "      <td>0.034258</td>\n",
       "      <td>0.048739</td>\n",
       "      <td>0.071348</td>\n",
       "      <td>0.099830</td>\n",
       "      <td>0.113495</td>\n",
       "      <td>0.118792</td>\n",
       "      <td>0.100876</td>\n",
       "      <td>0.088512</td>\n",
       "      <td>0.060221</td>\n",
       "      <td>...</td>\n",
       "      <td>0.000000</td>\n",
       "      <td>0.000000</td>\n",
       "      <td>0.000000</td>\n",
       "      <td>0.000564</td>\n",
       "      <td>0.001411</td>\n",
       "      <td>0.005922</td>\n",
       "      <td>0.010135</td>\n",
       "      <td>0.012440</td>\n",
       "      <td>0.016088</td>\n",
       "      <td>0.016940</td>\n",
       "    </tr>\n",
       "    <tr>\n",
       "      <th>637</th>\n",
       "      <td>0.016102</td>\n",
       "      <td>0.020102</td>\n",
       "      <td>0.025786</td>\n",
       "      <td>0.043884</td>\n",
       "      <td>0.058824</td>\n",
       "      <td>0.078769</td>\n",
       "      <td>0.081828</td>\n",
       "      <td>0.072054</td>\n",
       "      <td>0.054928</td>\n",
       "      <td>0.032231</td>\n",
       "      <td>...</td>\n",
       "      <td>0.000000</td>\n",
       "      <td>0.000000</td>\n",
       "      <td>0.000000</td>\n",
       "      <td>0.000000</td>\n",
       "      <td>0.000564</td>\n",
       "      <td>0.001974</td>\n",
       "      <td>0.003941</td>\n",
       "      <td>0.006785</td>\n",
       "      <td>0.007903</td>\n",
       "      <td>0.012140</td>\n",
       "    </tr>\n",
       "    <tr>\n",
       "      <th>638</th>\n",
       "      <td>0.008475</td>\n",
       "      <td>0.007078</td>\n",
       "      <td>0.011901</td>\n",
       "      <td>0.022650</td>\n",
       "      <td>0.039310</td>\n",
       "      <td>0.045172</td>\n",
       "      <td>0.052765</td>\n",
       "      <td>0.045493</td>\n",
       "      <td>0.036409</td>\n",
       "      <td>0.016964</td>\n",
       "      <td>...</td>\n",
       "      <td>0.000000</td>\n",
       "      <td>0.000000</td>\n",
       "      <td>0.000000</td>\n",
       "      <td>0.000000</td>\n",
       "      <td>0.000000</td>\n",
       "      <td>0.001410</td>\n",
       "      <td>0.002815</td>\n",
       "      <td>0.001131</td>\n",
       "      <td>0.004516</td>\n",
       "      <td>0.003106</td>\n",
       "    </tr>\n",
       "    <tr>\n",
       "      <th>639</th>\n",
       "      <td>0.003107</td>\n",
       "      <td>0.003681</td>\n",
       "      <td>0.003967</td>\n",
       "      <td>0.018403</td>\n",
       "      <td>0.016120</td>\n",
       "      <td>0.027668</td>\n",
       "      <td>0.029910</td>\n",
       "      <td>0.024866</td>\n",
       "      <td>0.013497</td>\n",
       "      <td>0.009754</td>\n",
       "      <td>...</td>\n",
       "      <td>0.000000</td>\n",
       "      <td>0.000000</td>\n",
       "      <td>0.000000</td>\n",
       "      <td>0.000000</td>\n",
       "      <td>0.000282</td>\n",
       "      <td>0.000282</td>\n",
       "      <td>0.000845</td>\n",
       "      <td>0.000565</td>\n",
       "      <td>0.002258</td>\n",
       "      <td>0.003670</td>\n",
       "    </tr>\n",
       "    <tr>\n",
       "      <th>640</th>\n",
       "      <td>0.000282</td>\n",
       "      <td>0.001416</td>\n",
       "      <td>0.002267</td>\n",
       "      <td>0.005946</td>\n",
       "      <td>0.007919</td>\n",
       "      <td>0.012422</td>\n",
       "      <td>0.013826</td>\n",
       "      <td>0.013281</td>\n",
       "      <td>0.009102</td>\n",
       "      <td>0.002120</td>\n",
       "      <td>...</td>\n",
       "      <td>0.000000</td>\n",
       "      <td>0.000000</td>\n",
       "      <td>0.000000</td>\n",
       "      <td>0.000000</td>\n",
       "      <td>0.000000</td>\n",
       "      <td>0.000282</td>\n",
       "      <td>0.000000</td>\n",
       "      <td>0.000283</td>\n",
       "      <td>0.000847</td>\n",
       "      <td>0.000847</td>\n",
       "    </tr>\n",
       "    <tr>\n",
       "      <th>641</th>\n",
       "      <td>0.000282</td>\n",
       "      <td>0.000283</td>\n",
       "      <td>0.000567</td>\n",
       "      <td>0.001982</td>\n",
       "      <td>0.002545</td>\n",
       "      <td>0.005929</td>\n",
       "      <td>0.004515</td>\n",
       "      <td>0.004521</td>\n",
       "      <td>0.001883</td>\n",
       "      <td>0.000848</td>\n",
       "      <td>...</td>\n",
       "      <td>0.000000</td>\n",
       "      <td>0.000000</td>\n",
       "      <td>0.000000</td>\n",
       "      <td>0.000000</td>\n",
       "      <td>0.000000</td>\n",
       "      <td>0.000000</td>\n",
       "      <td>0.000000</td>\n",
       "      <td>0.000000</td>\n",
       "      <td>0.000000</td>\n",
       "      <td>0.000000</td>\n",
       "    </tr>\n",
       "    <tr>\n",
       "      <th>642</th>\n",
       "      <td>0.000282</td>\n",
       "      <td>0.000283</td>\n",
       "      <td>0.000283</td>\n",
       "      <td>0.000849</td>\n",
       "      <td>0.001414</td>\n",
       "      <td>0.000565</td>\n",
       "      <td>0.002822</td>\n",
       "      <td>0.001978</td>\n",
       "      <td>0.000628</td>\n",
       "      <td>0.000000</td>\n",
       "      <td>...</td>\n",
       "      <td>0.000000</td>\n",
       "      <td>0.000000</td>\n",
       "      <td>0.000000</td>\n",
       "      <td>0.000000</td>\n",
       "      <td>0.000000</td>\n",
       "      <td>0.000000</td>\n",
       "      <td>0.000000</td>\n",
       "      <td>0.000000</td>\n",
       "      <td>0.000000</td>\n",
       "      <td>0.000282</td>\n",
       "    </tr>\n",
       "    <tr>\n",
       "      <th>643</th>\n",
       "      <td>0.000000</td>\n",
       "      <td>0.000000</td>\n",
       "      <td>0.000000</td>\n",
       "      <td>0.000000</td>\n",
       "      <td>0.000566</td>\n",
       "      <td>0.000000</td>\n",
       "      <td>0.000564</td>\n",
       "      <td>0.001130</td>\n",
       "      <td>0.000314</td>\n",
       "      <td>0.000000</td>\n",
       "      <td>...</td>\n",
       "      <td>0.000000</td>\n",
       "      <td>0.000000</td>\n",
       "      <td>0.000000</td>\n",
       "      <td>0.000000</td>\n",
       "      <td>0.000000</td>\n",
       "      <td>0.000000</td>\n",
       "      <td>0.000000</td>\n",
       "      <td>0.000000</td>\n",
       "      <td>0.000000</td>\n",
       "      <td>0.000000</td>\n",
       "    </tr>\n",
       "    <tr>\n",
       "      <th>644</th>\n",
       "      <td>0.000000</td>\n",
       "      <td>0.000000</td>\n",
       "      <td>0.000000</td>\n",
       "      <td>0.000000</td>\n",
       "      <td>0.000000</td>\n",
       "      <td>0.000000</td>\n",
       "      <td>0.000000</td>\n",
       "      <td>0.000000</td>\n",
       "      <td>0.000628</td>\n",
       "      <td>0.000000</td>\n",
       "      <td>...</td>\n",
       "      <td>0.000000</td>\n",
       "      <td>0.000000</td>\n",
       "      <td>0.000000</td>\n",
       "      <td>0.000000</td>\n",
       "      <td>0.000000</td>\n",
       "      <td>0.000000</td>\n",
       "      <td>0.000000</td>\n",
       "      <td>0.000000</td>\n",
       "      <td>0.000000</td>\n",
       "      <td>0.000000</td>\n",
       "    </tr>\n",
       "    <tr>\n",
       "      <th>645</th>\n",
       "      <td>0.000000</td>\n",
       "      <td>0.000000</td>\n",
       "      <td>0.000000</td>\n",
       "      <td>0.000000</td>\n",
       "      <td>0.000000</td>\n",
       "      <td>0.000000</td>\n",
       "      <td>0.000282</td>\n",
       "      <td>0.000000</td>\n",
       "      <td>0.000000</td>\n",
       "      <td>0.000000</td>\n",
       "      <td>...</td>\n",
       "      <td>0.000000</td>\n",
       "      <td>0.000000</td>\n",
       "      <td>0.000000</td>\n",
       "      <td>0.000000</td>\n",
       "      <td>0.000000</td>\n",
       "      <td>0.000000</td>\n",
       "      <td>0.000000</td>\n",
       "      <td>0.000000</td>\n",
       "      <td>0.000000</td>\n",
       "      <td>0.000000</td>\n",
       "    </tr>\n",
       "  </tbody>\n",
       "</table>\n",
       "<p>37 rows × 24 columns</p>\n",
       "</div>"
      ],
      "text/plain": [
       "           0         1         2         3         4         5         6   \\\n",
       "607  0.000000  0.000000  0.000000  0.000000  0.000000  0.000000  0.000000   \n",
       "608  0.000000  0.000000  0.000000  0.000000  0.000000  0.000000  0.000000   \n",
       "609  0.000000  0.000000  0.000000  0.000000  0.000000  0.000000  0.000000   \n",
       "610  0.000000  0.000000  0.000000  0.000000  0.000000  0.000000  0.000000   \n",
       "611  0.000000  0.000000  0.000000  0.000000  0.000000  0.000000  0.000000   \n",
       "612  0.000000  0.000000  0.000000  0.000000  0.000000  0.000000  0.000000   \n",
       "613  0.000000  0.000000  0.000000  0.000000  0.000000  0.000000  0.000000   \n",
       "615  0.000000  0.000000  0.000000  0.000000  0.000000  0.000000  0.000000   \n",
       "616  0.000000  0.000000  0.000000  0.000000  0.000000  0.000000  0.000000   \n",
       "617  0.000000  0.000000  0.000000  0.000000  0.000000  0.000000  0.000000   \n",
       "618  0.000847  0.000000  0.000000  0.000000  0.000000  0.000000  0.000000   \n",
       "619  0.005085  0.001133  0.000283  0.000000  0.000000  0.000000  0.000000   \n",
       "620  0.009040  0.001699  0.000850  0.000283  0.000000  0.000000  0.000000   \n",
       "621  0.012994  0.003681  0.000850  0.000000  0.000000  0.000282  0.000282   \n",
       "622  0.024011  0.005096  0.001984  0.000566  0.000000  0.000000  0.000000   \n",
       "623  0.037288  0.012458  0.005384  0.000849  0.001131  0.000282  0.000282   \n",
       "624  0.050565  0.022650  0.012751  0.004530  0.001414  0.001129  0.000564   \n",
       "625  0.071186  0.042469  0.021252  0.010759  0.003394  0.001129  0.001975   \n",
       "626  0.087006  0.062571  0.035137  0.025481  0.010747  0.005647  0.005079   \n",
       "627  0.089266  0.075595  0.048456  0.039354  0.020645  0.014116  0.012133   \n",
       "628  0.103107  0.106738  0.088410  0.062005  0.039593  0.028233  0.029628   \n",
       "629  0.101977  0.119479  0.120714  0.099660  0.063066  0.055901  0.048251   \n",
       "630  0.095480  0.132220  0.133466  0.114949  0.100113  0.079616  0.079571   \n",
       "631  0.096610  0.112118  0.133182  0.132220  0.133484  0.118859  0.109763   \n",
       "632  0.070621  0.105040  0.120147  0.127123  0.142534  0.134952  0.129797   \n",
       "633  0.060169  0.071914  0.104562  0.116931  0.147907  0.145116  0.140519   \n",
       "634  0.036158  0.058041  0.079059  0.100227  0.109446  0.130717  0.136851   \n",
       "636  0.020056  0.034258  0.048739  0.071348  0.099830  0.113495  0.118792   \n",
       "637  0.016102  0.020102  0.025786  0.043884  0.058824  0.078769  0.081828   \n",
       "638  0.008475  0.007078  0.011901  0.022650  0.039310  0.045172  0.052765   \n",
       "639  0.003107  0.003681  0.003967  0.018403  0.016120  0.027668  0.029910   \n",
       "640  0.000282  0.001416  0.002267  0.005946  0.007919  0.012422  0.013826   \n",
       "641  0.000282  0.000283  0.000567  0.001982  0.002545  0.005929  0.004515   \n",
       "642  0.000282  0.000283  0.000283  0.000849  0.001414  0.000565  0.002822   \n",
       "643  0.000000  0.000000  0.000000  0.000000  0.000566  0.000000  0.000564   \n",
       "644  0.000000  0.000000  0.000000  0.000000  0.000000  0.000000  0.000000   \n",
       "645  0.000000  0.000000  0.000000  0.000000  0.000000  0.000000  0.000282   \n",
       "\n",
       "           7         8         9   ...        14        15        16  \\\n",
       "607  0.000000  0.000000  0.000000  ...  0.000281  0.000000  0.000000   \n",
       "608  0.000000  0.000000  0.000000  ...  0.000281  0.000000  0.000000   \n",
       "609  0.000000  0.000000  0.000000  ...  0.000000  0.000564  0.000000   \n",
       "610  0.000000  0.000000  0.000000  ...  0.000844  0.001127  0.000000   \n",
       "611  0.000000  0.000000  0.000000  ...  0.003376  0.002818  0.000000   \n",
       "612  0.000000  0.000000  0.000000  ...  0.005065  0.007326  0.000000   \n",
       "613  0.000000  0.000000  0.000000  ...  0.014350  0.014934  0.000564   \n",
       "615  0.000000  0.000000  0.000000  ...  0.030107  0.024232  0.000564   \n",
       "616  0.000000  0.000000  0.000000  ...  0.045301  0.041984  0.005079   \n",
       "617  0.000000  0.000000  0.000000  ...  0.072032  0.067906  0.011851   \n",
       "618  0.000000  0.000000  0.000000  ...  0.100169  0.087912  0.025677   \n",
       "619  0.000000  0.000000  0.000000  ...  0.115363  0.099746  0.042043   \n",
       "620  0.000000  0.000000  0.000000  ...  0.119021  0.124542  0.067156   \n",
       "621  0.000000  0.000000  0.000000  ...  0.113956  0.131023  0.090858   \n",
       "622  0.000000  0.000000  0.002120  ...  0.111142  0.116653  0.125564   \n",
       "623  0.000565  0.000314  0.001272  ...  0.092290  0.090166  0.143623   \n",
       "624  0.001130  0.002511  0.004665  ...  0.064434  0.073542  0.128950   \n",
       "625  0.002543  0.007533  0.014419  ...  0.042206  0.052127  0.119639   \n",
       "626  0.008760  0.014438  0.023325  ...  0.031232  0.033249  0.087190   \n",
       "627  0.013281  0.023854  0.038168  ...  0.018008  0.016624  0.066874   \n",
       "628  0.033343  0.044884  0.065310  ...  0.009004  0.007890  0.038939   \n",
       "629  0.056231  0.080352  0.109839  ...  0.006472  0.002536  0.023138   \n",
       "630  0.084205  0.112053  0.126802  ...  0.003658  0.001972  0.014108   \n",
       "631  0.117265  0.132454  0.136556  ...  0.000844  0.000564  0.005643   \n",
       "632  0.144391  0.133710  0.150551  ...  0.000281  0.000564  0.001693   \n",
       "633  0.143543  0.129002  0.111959  ...  0.000000  0.000000  0.000847   \n",
       "634  0.130545  0.112994  0.092875  ...  0.000281  0.000000  0.000000   \n",
       "636  0.100876  0.088512  0.060221  ...  0.000000  0.000000  0.000000   \n",
       "637  0.072054  0.054928  0.032231  ...  0.000000  0.000000  0.000000   \n",
       "638  0.045493  0.036409  0.016964  ...  0.000000  0.000000  0.000000   \n",
       "639  0.024866  0.013497  0.009754  ...  0.000000  0.000000  0.000000   \n",
       "640  0.013281  0.009102  0.002120  ...  0.000000  0.000000  0.000000   \n",
       "641  0.004521  0.001883  0.000848  ...  0.000000  0.000000  0.000000   \n",
       "642  0.001978  0.000628  0.000000  ...  0.000000  0.000000  0.000000   \n",
       "643  0.001130  0.000314  0.000000  ...  0.000000  0.000000  0.000000   \n",
       "644  0.000000  0.000628  0.000000  ...  0.000000  0.000000  0.000000   \n",
       "645  0.000000  0.000000  0.000000  ...  0.000000  0.000000  0.000000   \n",
       "\n",
       "           17        18        19        20        21        22        23  \n",
       "607  0.000000  0.000000  0.000000  0.000000  0.000000  0.000000  0.000000  \n",
       "608  0.000000  0.000000  0.000000  0.000282  0.000283  0.000000  0.000000  \n",
       "609  0.000000  0.000000  0.000000  0.000000  0.000283  0.000282  0.000000  \n",
       "610  0.000000  0.000282  0.000282  0.003097  0.000000  0.000000  0.000000  \n",
       "611  0.000000  0.000000  0.000564  0.001689  0.003393  0.001129  0.000000  \n",
       "612  0.000845  0.000847  0.001410  0.005912  0.004524  0.000564  0.000282  \n",
       "613  0.004227  0.001411  0.005076  0.015766  0.010178  0.002540  0.000565  \n",
       "615  0.004790  0.006209  0.008742  0.022804  0.023749  0.011008  0.001129  \n",
       "616  0.013807  0.013830  0.023689  0.039977  0.032513  0.013830  0.001976  \n",
       "617  0.029304  0.021451  0.038071  0.051239  0.053435  0.023709  0.003388  \n",
       "618  0.040575  0.041208  0.052735  0.067568  0.072943  0.044313  0.009317  \n",
       "619  0.062553  0.053627  0.077552  0.084741  0.080859  0.058990  0.016940  \n",
       "620  0.069879  0.062941  0.095601  0.090372  0.084252  0.062377  0.023715  \n",
       "621  0.085940  0.074231  0.102933  0.081363  0.092734  0.080158  0.044043  \n",
       "622  0.102282  0.097093  0.087140  0.070946  0.070681  0.080723  0.054207  \n",
       "623  0.103691  0.089754  0.062888  0.054617  0.054566  0.075924  0.075946  \n",
       "624  0.100592  0.099915  0.058940  0.042511  0.045236  0.062377  0.080745  \n",
       "625  0.091293  0.085238  0.042865  0.025619  0.031383  0.055038  0.071146  \n",
       "626  0.078895  0.081852  0.045121  0.028998  0.024597  0.047982  0.082439  \n",
       "627  0.071288  0.073102  0.045967  0.026182  0.028273  0.043184  0.074252  \n",
       "628  0.050719  0.062659  0.047377  0.036318  0.030817  0.044313  0.075381  \n",
       "629  0.041138  0.049958  0.043147  0.043637  0.046084  0.046288  0.070582  \n",
       "630  0.025923  0.038950  0.048505  0.050957  0.050042  0.052498  0.065782  \n",
       "631  0.010425  0.020322  0.040327  0.047016  0.052021  0.052216  0.068041  \n",
       "632  0.005354  0.011572  0.030739  0.038570  0.037037  0.046571  0.058159  \n",
       "633  0.004227  0.006492  0.020305  0.031813  0.029403  0.035563  0.050254  \n",
       "634  0.001691  0.004798  0.010152  0.020270  0.019508  0.026813  0.034726  \n",
       "636  0.000564  0.001411  0.005922  0.010135  0.012440  0.016088  0.016940  \n",
       "637  0.000000  0.000564  0.001974  0.003941  0.006785  0.007903  0.012140  \n",
       "638  0.000000  0.000000  0.001410  0.002815  0.001131  0.004516  0.003106  \n",
       "639  0.000000  0.000282  0.000282  0.000845  0.000565  0.002258  0.003670  \n",
       "640  0.000000  0.000000  0.000282  0.000000  0.000283  0.000847  0.000847  \n",
       "641  0.000000  0.000000  0.000000  0.000000  0.000000  0.000000  0.000000  \n",
       "642  0.000000  0.000000  0.000000  0.000000  0.000000  0.000000  0.000282  \n",
       "643  0.000000  0.000000  0.000000  0.000000  0.000000  0.000000  0.000000  \n",
       "644  0.000000  0.000000  0.000000  0.000000  0.000000  0.000000  0.000000  \n",
       "645  0.000000  0.000000  0.000000  0.000000  0.000000  0.000000  0.000000  \n",
       "\n",
       "[37 rows x 24 columns]"
      ]
     },
     "execution_count": 107,
     "metadata": {},
     "output_type": "execute_result"
    }
   ],
   "source": [
    "cond_z_t = probs/p_t[0]\n",
    "cond_z_t"
   ]
  },
  {
   "cell_type": "code",
   "execution_count": 108,
   "metadata": {},
   "outputs": [
    {
     "data": {
      "text/plain": [
       "<matplotlib.axes._subplots.AxesSubplot at 0x12a294250>"
      ]
     },
     "execution_count": 108,
     "metadata": {},
     "output_type": "execute_result"
    },
    {
     "data": {
      "image/png": "[encoded data removed]",
      "text/plain": [
       "<Figure size 432x288 with 1 Axes>"
      ]
     },
     "metadata": {
      "needs_background": "light"
     },
     "output_type": "display_data"
    }
   ],
   "source": [
    "(cond_z_t[6]).plot.bar(color=\"blue\", alpha=0.5)\n",
    "(cond_z_t[14]).plot.bar(color=\"orange\", alpha=0.5)"
   ]
  },
  {
   "cell_type": "markdown",
   "metadata": {},
   "source": [
    "$P(z|t)$が求まっていて、時間帯$t$が分かるとセンサ値$z$に対して細かい予測ができる。\n",
    "この関係は確率の乗法定理と呼ばれ、一般に\n",
    "$$\n",
    "    P(x, y) = P(x|y)P(y) = P(y|x)P(x)\n",
    "$$\n",
    "が成り立つ。\n",
    "得られたセンサ値から計測した時間帯を推定する。"
   ]
  },
  {
   "cell_type": "code",
   "execution_count": 111,
   "metadata": {},
   "outputs": [],
   "source": [
    "def bayes_estimation(sensor_value, current_estimation):\n",
    "    new_estimation=[]\n",
    "    for i in range(24):\n",
    "        new_estimation.append(cond_z_t[i][sensor_value]*current_estimation[i])\n",
    "    return new_estimation/sum(new_estimation)"
   ]
  },
  {
   "cell_type": "code",
   "execution_count": 112,
   "metadata": {},
   "outputs": [
    {
     "data": {
      "text/plain": [
       "[<matplotlib.lines.Line2D at 0x12a514e90>]"
      ]
     },
     "execution_count": 112,
     "metadata": {},
     "output_type": "execute_result"
    },
    {
     "data": {
      "image/png": "[encoded data removed]",
      "text/plain": [
       "<Figure size 432x288 with 1 Axes>"
      ]
     },
     "metadata": {
      "needs_background": "light"
     },
     "output_type": "display_data"
    }
   ],
   "source": [
    "estimation=bayes_estimation(630,p_t[0])\n",
    "plt.plot(estimation)"
   ]
  },
  {
   "cell_type": "markdown",
   "metadata": {},
   "source": [
    "夜中に得られた可能性が高いことがわかる。さらに$632, 636$のデータが得られたとすると、ベイズの定理から\n",
    "$$\n",
    "    P(t|z_1, z_2, z_3) = \\eta P(z_1, z_2, z_3| t)P(t)\n",
    "$$\n",
    "もし$z_1, z_2, z_3$が時間帯$t$を固定したときに互いに独立だとしたとき、\n",
    "$$\n",
    "    \\begin{align}\n",
    "    P(t|z_1, z_2, z_3) &= \\eta P(z_1, z_2, z_3| t)P(t) \\\\\n",
    "    &= \\eta P(z_1|t)P(z_2|t)P(z_3|t)P(t)\n",
    "    \\end{align}\n",
    "$$"
   ]
  },
  {
   "cell_type": "code",
   "execution_count": 114,
   "metadata": {},
   "outputs": [
    {
     "data": {
      "text/plain": [
       "[<matplotlib.lines.Line2D at 0x1297a11d0>]"
      ]
     },
     "execution_count": 114,
     "metadata": {},
     "output_type": "execute_result"
    },
    {
     "data": {
      "image/png": "[encoded data removed]",
      "text/plain": [
       "<Figure size 432x288 with 1 Axes>"
      ]
     },
     "metadata": {
      "needs_background": "light"
     },
     "output_type": "display_data"
    }
   ],
   "source": [
    "values_5=[630, 632, 636]\n",
    "\n",
    "estimation=p_t[0]\n",
    "for v in values_5:\n",
    "    estimation=bayes_estimation(v, estimation)\n",
    "plt.plot(estimation)"
   ]
  },
  {
   "cell_type": "markdown",
   "metadata": {},
   "source": [
    "3時から８時当たりの確率が0.1を超えており高い確率であることがわかる。"
   ]
  },
  {
   "cell_type": "code",
   "execution_count": 116,
   "metadata": {},
   "outputs": [
    {
     "data": {
      "text/plain": [
       "[<matplotlib.lines.Line2D at 0x129cff550>]"
      ]
     },
     "execution_count": 116,
     "metadata": {},
     "output_type": "execute_result"
    },
    {
     "data": {
      "image/png": "[encoded data removed]",
      "text/plain": [
       "<Figure size 432x288 with 1 Axes>"
      ]
     },
     "metadata": {
      "needs_background": "light"
     },
     "output_type": "display_data"
    }
   ],
   "source": [
    "values_11=[617, 624, 619]\n",
    "estimation=p_t[0]\n",
    "for v in values_11:\n",
    "    estimation=bayes_estimation(v, estimation)\n",
    "plt.plot(estimation)"
   ]
  },
  {
   "cell_type": "markdown",
   "metadata": {},
   "source": [
    "# 多次元のガウス分布"
   ]
  },
  {
   "cell_type": "code",
   "execution_count": 120,
   "metadata": {},
   "outputs": [
    {
     "data": {
      "text/plain": [
       "<seaborn.axisgrid.JointGrid at 0x128fe3990>"
      ]
     },
     "execution_count": 120,
     "metadata": {},
     "output_type": "execute_result"
    },
    {
     "data": {
      "image/png": "[encoded data removed]",
      "text/plain": [
       "<Figure size 432x432 with 3 Axes>"
      ]
     },
     "metadata": {
      "needs_background": "light"
     },
     "output_type": "display_data"
    }
   ],
   "source": [
    "data = pd.read_csv(\"data/sensor_data_700.txt\", delimiter=\" \", header=None, names=(\"date\", \"time\", \"ir\", \"lidar\"))\n",
    "d = data[(data[\"time\"]<160000)&(data[\"time\"]>=120000)]\n",
    "d = d.loc[:, [\"ir\", \"lidar\"]]\n",
    "sns.jointplot(d[\"ir\"], d[\"lidar\"], d, kind=\"kde\")"
   ]
  },
  {
   "cell_type": "markdown",
   "metadata": {},
   "source": [
    "上記は光センサとLiDARのセンサ値のペアをプロットしたもの。ガウス分布にほぼ従うものになっている。\n",
    "多次元のガウス分布の確率密度関数は共分散行列$\\Sigma$と平均値$\\mu$で決定される。\n",
    "共分散行列は以下の行列。\n",
    "$$\n",
    "    \\Sigma=\n",
    "    \\left(\\begin{align}\n",
    "        \\sigma^2_x \\quad \\sigma_{xy} \\\\\n",
    "        \\sigma_{xy} \\quad \\sigma^2_y \\\\\n",
    "    \\end{align}\\right)\n",
    "$$\n",
    "$\\sigma^2_x, \\sigma^2_y$はそれぞれ光センサとLiDARのセンサ値の分散となっている。\n",
    "$\\sigma_{xy}$は次の式で表される、共分散というもの。\n",
    "$$\n",
    "    \\sigma_xy = \\frac{1}{N-1}\\sum_{i=0}^{N-1}(x_i - \\mu_x)(y_i - \\mu_y)\n",
    "$$\n",
    "共分散行列の逆行列を$\\Lambda$とすると、\n",
    "$$\n",
    "    \\Lambda = \\Sigma^{-1} = \\frac{1}{\\sigma^2_x \\sigma^2_y - \\sigma^2_{xy}}\n",
    "    \\left(\\begin{align}\n",
    "        \\sigma^2_y \\quad -\\sigma_{xy} \\\\\n",
    "        -\\sigma_{xy} \\quad \\sigma^2_x \\\\\n",
    "    \\end{align}\\right)\n",
    "$$\n",
    "となる。ここで共分散行列は対称行列であるので、$\\Lambda$も対称行列となる。\n",
    "$\\Lambda$は、精度行列あるいは情報行列と呼ばれる。"
   ]
  },
  {
   "cell_type": "code",
   "execution_count": 123,
   "metadata": {},
   "outputs": [
    {
     "name": "stdout",
     "output_type": "stream",
     "text": [
      "光センサの計測値の分散： 42.117126367701594\n",
      "LiDARの計測値の分散： 17.702026469211457\n",
      "共分散： -0.31677803385436953\n"
     ]
    },
    {
     "data": {
      "text/plain": [
       "ir        19.860247\n",
       "lidar    729.311958\n",
       "dtype: float64"
      ]
     },
     "execution_count": 123,
     "metadata": {},
     "output_type": "execute_result"
    }
   ],
   "source": [
    "print(\"光センサの計測値の分散：\", d.ir.var())\n",
    "print(\"LiDARの計測値の分散：\", d.lidar.var())\n",
    "\n",
    "diff_ir=d.ir-d.ir.mean()\n",
    "diff_lidar=d.lidar-d.lidar.mean()\n",
    "\n",
    "a = diff_ir * diff_lidar\n",
    "print(\"共分散：\", sum(a)/(len(d)-1))\n",
    "d.mean()"
   ]
  },
  {
   "cell_type": "code",
   "execution_count": 124,
   "metadata": {},
   "outputs": [
    {
     "data": {
      "text/html": [
       "<div>\n",
       "<style scoped>\n",
       "    .dataframe tbody tr th:only-of-type {\n",
       "        vertical-align: middle;\n",
       "    }\n",
       "\n",
       "    .dataframe tbody tr th {\n",
       "        vertical-align: top;\n",
       "    }\n",
       "\n",
       "    .dataframe thead th {\n",
       "        text-align: right;\n",
       "    }\n",
       "</style>\n",
       "<table border=\"1\" class=\"dataframe\">\n",
       "  <thead>\n",
       "    <tr style=\"text-align: right;\">\n",
       "      <th></th>\n",
       "      <th>ir</th>\n",
       "      <th>lidar</th>\n",
       "    </tr>\n",
       "  </thead>\n",
       "  <tbody>\n",
       "    <tr>\n",
       "      <th>ir</th>\n",
       "      <td>42.117126</td>\n",
       "      <td>-0.316778</td>\n",
       "    </tr>\n",
       "    <tr>\n",
       "      <th>lidar</th>\n",
       "      <td>-0.316778</td>\n",
       "      <td>17.702026</td>\n",
       "    </tr>\n",
       "  </tbody>\n",
       "</table>\n",
       "</div>"
      ],
      "text/plain": [
       "              ir      lidar\n",
       "ir     42.117126  -0.316778\n",
       "lidar  -0.316778  17.702026"
      ]
     },
     "execution_count": 124,
     "metadata": {},
     "output_type": "execute_result"
    }
   ],
   "source": [
    "d.cov()"
   ]
  },
  {
   "cell_type": "code",
   "execution_count": 125,
   "metadata": {},
   "outputs": [],
   "source": [
    "from scipy.stats import multivariate_normal\n",
    "irlidar = multivariate_normal(mean=d.mean().values.T, cov=d.cov().values)"
   ]
  },
  {
   "cell_type": "code",
   "execution_count": 127,
   "metadata": {},
   "outputs": [
    {
     "data": {
      "text/plain": [
       "<a list of 6 text.Text objects>"
      ]
     },
     "execution_count": 127,
     "metadata": {},
     "output_type": "execute_result"
    },
    {
     "data": {
      "image/png": "[encoded data removed]",
      "text/plain": [
       "<Figure size 432x288 with 1 Axes>"
      ]
     },
     "metadata": {
      "needs_background": "light"
     },
     "output_type": "display_data"
    }
   ],
   "source": [
    "import numpy as np\n",
    "x, y=np.mgrid[0:40, 710:750]\n",
    "pos=np.empty(x.shape + (2,))\n",
    "pos[:, :, 0]=x\n",
    "pos[:, :, 1]=y\n",
    "cont=plt.contour(x,y,irlidar.pdf(pos))\n",
    "cont.clabel(fmt='%1.1e')"
   ]
  },
  {
   "cell_type": "markdown",
   "metadata": {},
   "source": [
    "## 共分散の意味"
   ]
  },
  {
   "cell_type": "code",
   "execution_count": 130,
   "metadata": {},
   "outputs": [
    {
     "data": {
      "image/png": "[encoded data removed]",
      "text/plain": [
       "<Figure size 432x288 with 1 Axes>"
      ]
     },
     "metadata": {
      "needs_background": "light"
     },
     "output_type": "display_data"
    }
   ],
   "source": [
    "c = d.cov().values + np.array([[0, 20], [20, 0]])\n",
    "tmp = multivariate_normal(mean=d.mean().values.T, cov=c)\n",
    "cont = plt.contour(x, y, tmp.pdf(pos))"
   ]
  },
  {
   "cell_type": "code",
   "execution_count": 148,
   "metadata": {},
   "outputs": [],
   "source": [
    "data = pd.read_csv(\"data/sensor_data_200_d.txt\", delimiter=\" \", header=None, names=(\"date\", \"time\", \"ir\", \"lidar\"))\n",
    "\n",
    "d = data.loc[:, [\"ir\", \"lidar\"]]"
   ]
  },
  {
   "cell_type": "code",
   "execution_count": 149,
   "metadata": {},
   "outputs": [
    {
     "data": {
      "text/html": [
       "<div>\n",
       "<style scoped>\n",
       "    .dataframe tbody tr th:only-of-type {\n",
       "        vertical-align: middle;\n",
       "    }\n",
       "\n",
       "    .dataframe tbody tr th {\n",
       "        vertical-align: top;\n",
       "    }\n",
       "\n",
       "    .dataframe thead th {\n",
       "        text-align: right;\n",
       "    }\n",
       "</style>\n",
       "<table border=\"1\" class=\"dataframe\">\n",
       "  <thead>\n",
       "    <tr style=\"text-align: right;\">\n",
       "      <th></th>\n",
       "      <th>ir</th>\n",
       "      <th>lidar</th>\n",
       "    </tr>\n",
       "  </thead>\n",
       "  <tbody>\n",
       "    <tr>\n",
       "      <th>ir</th>\n",
       "      <td>109.394583</td>\n",
       "      <td>-13.444661</td>\n",
       "    </tr>\n",
       "    <tr>\n",
       "      <th>lidar</th>\n",
       "      <td>-13.444661</td>\n",
       "      <td>23.408107</td>\n",
       "    </tr>\n",
       "  </tbody>\n",
       "</table>\n",
       "</div>"
      ],
      "text/plain": [
       "               ir      lidar\n",
       "ir     109.394583 -13.444661\n",
       "lidar  -13.444661  23.408107"
      ]
     },
     "execution_count": 149,
     "metadata": {},
     "output_type": "execute_result"
    },
    {
     "data": {
      "image/png": "[encoded data removed]",
      "text/plain": [
       "<Figure size 432x432 with 3 Axes>"
      ]
     },
     "metadata": {
      "needs_background": "light"
     },
     "output_type": "display_data"
    }
   ],
   "source": [
    "sns.jointplot(d[\"ir\"], d[\"lidar\"], d, kind=\"kde\")\n",
    "d.cov()"
   ]
  },
  {
   "cell_type": "code",
   "execution_count": 152,
   "metadata": {},
   "outputs": [
    {
     "data": {
      "text/plain": [
       "<a list of 5 text.Text objects>"
      ]
     },
     "execution_count": 152,
     "metadata": {},
     "output_type": "execute_result"
    },
    {
     "data": {
      "image/png": "[encoded data removed]",
      "text/plain": [
       "<Figure size 432x288 with 1 Axes>"
      ]
     },
     "metadata": {
      "needs_background": "light"
     },
     "output_type": "display_data"
    }
   ],
   "source": [
    "x, y = np.mgrid[280:340, 190:230]\n",
    "pos=np.empty(x.shape + (2,))\n",
    "pos[:, :, 0] = x\n",
    "pos[:, :, 1] = y\n",
    "\n",
    "irlidar = multivariate_normal(mean=d.mean().T, cov=d.cov())\n",
    "cont = plt.contour(x, y, irlidar.pdf(pos))\n",
    "cont.clabel(fmt='%1.1e')"
   ]
  },
  {
   "cell_type": "markdown",
   "metadata": {},
   "source": [
    "光センサのセンサ値とLiDARのセンサ値は片方が平均値より大きい場合にもう片方は平均値より小さいことが多いことが多い。\n",
    "\n",
    "## 共分散行列と誤差楕円"
   ]
  },
  {
   "cell_type": "code",
   "execution_count": 162,
   "metadata": {},
   "outputs": [
    {
     "data": {
      "text/plain": [
       "Text(0, 0.5, 'y')"
      ]
     },
     "execution_count": 162,
     "metadata": {},
     "output_type": "execute_result"
    },
    {
     "data": {
      "image/png": "[encoded data removed]",
      "text/plain": [
       "<Figure size 432x288 with 1 Axes>"
      ]
     },
     "metadata": {
      "needs_background": "light"
     },
     "output_type": "display_data"
    }
   ],
   "source": [
    "%matplotlib inline\n",
    "x, y = np.mgrid[0:200, 0:100]\n",
    "pos=np.empty(x.shape + (2,))\n",
    "pos[:, :, 0] = x\n",
    "pos[:, :, 1] = y\n",
    "\n",
    "a = multivariate_normal(mean=[50, 50], cov=[[50, 0], [0, 100]])\n",
    "b = multivariate_normal(mean=[100, 50], cov=[[125, 0], [0, 25]])\n",
    "c = multivariate_normal(mean=[150, 50], cov=[[100, -25*math.sqrt(3)], [-25*math.sqrt(3), 50]])\n",
    "\n",
    "for e in [a, b, c]:\n",
    "    plt.contour(x, y, e.pdf(pos))\n",
    "\n",
    "plt.gca().set_aspect('equal')\n",
    "plt.gca().set_xlabel('x')\n",
    "plt.gca().set_ylabel('y')"
   ]
  },
  {
   "cell_type": "code",
   "execution_count": 163,
   "metadata": {},
   "outputs": [
    {
     "data": {
      "text/plain": [
       "Text(0, 0.5, 'y')"
      ]
     },
     "execution_count": 163,
     "metadata": {},
     "output_type": "execute_result"
    },
    {
     "data": {
      "image/png": "[encoded data removed]",
      "text/plain": [
       "<Figure size 432x288 with 1 Axes>"
      ]
     },
     "metadata": {
      "needs_background": "light"
     },
     "output_type": "display_data"
    }
   ],
   "source": [
    "mid = multivariate_normal(mean=[50, 50], cov=[[50, 0], [0, 50]])\n",
    "plt.contour(x, y, mid.pdf(pos))\n",
    "\n",
    "plt.gca().set_aspect('equal')\n",
    "plt.gca().set_xlabel('x')\n",
    "plt.gca().set_ylabel('y')"
   ]
  },
  {
   "cell_type": "code",
   "execution_count": 164,
   "metadata": {},
   "outputs": [
    {
     "name": "stdout",
     "output_type": "stream",
     "text": [
      "eig_val: [125.  25.]\n",
      "eig_vec: [[ 0.8660254  0.5      ]\n",
      " [-0.5        0.8660254]]\n",
      "固有ベクトル1: [ 0.8660254 -0.5      ]\n",
      "固有ベクトル2: [0.5       0.8660254]\n"
     ]
    }
   ],
   "source": [
    "eig_vals, eig_vec = np.linalg.eig(c.cov)\n",
    "\n",
    "print(\"eig_val:\", eig_vals)\n",
    "print(\"eig_vec:\", eig_vec)\n",
    "print(\"固有ベクトル1:\", eig_vec[:, 0])\n",
    "print(\"固有ベクトル2:\", eig_vec[:, 1])"
   ]
  },
  {
   "cell_type": "code",
   "execution_count": 166,
   "metadata": {},
   "outputs": [
    {
     "data": {
      "image/png": "[encoded data removed]",
      "text/plain": [
       "<Figure size 432x288 with 1 Axes>"
      ]
     },
     "metadata": {
      "needs_background": "light"
     },
     "output_type": "display_data"
    }
   ],
   "source": [
    "plt.contour(x, y, c.pdf(pos))\n",
    "\n",
    "v=2*math.sqrt(eig_vals[0])*eig_vec[:, 0]\n",
    "plt.quiver(c.mean[0], c.mean[1], v[0], v[1], color=\"red\", angles='xy', scale_units='xy', scale=1)\n",
    "\n",
    "v=2*math.sqrt(eig_vals[1])*eig_vec[:, 1]\n",
    "plt.quiver(c.mean[0], c.mean[1], v[0], v[1], color=\"blue\", angles='xy', scale_units='xy', scale=1)\n",
    "\n",
    "plt.gca().set_aspect('equal')\n",
    "plt.show()"
   ]
  },
  {
   "cell_type": "markdown",
   "metadata": {},
   "source": [
    "共分散行列$\\Sigma$と、固有値$L$、固有ベクトル$V$の関係\n",
    "$$\n",
    "    \\Sigma = V L V^-1\n",
    "$$\n",
    "ここで、\n",
    "$$\n",
    "    V=(v_1, v_2) \\\\\n",
    "    L= \\left(\\begin{array}{cc}\n",
    "    l_1 \\quad 0 \\\\\n",
    "    0 \\quad l_2\n",
    "    \\end{array}\\right)\n",
    "$$"
   ]
  },
  {
   "cell_type": "code",
   "execution_count": 169,
   "metadata": {},
   "outputs": [
    {
     "name": "stdout",
     "output_type": "stream",
     "text": [
      "分解したものを計算: \n",
      " [[100.         -43.30127019]\n",
      " [-43.30127019  50.        ]]\n",
      "元の共分散行列: \n",
      " [[100.         -43.30127019]\n",
      " [-43.30127019  50.        ]]\n"
     ]
    }
   ],
   "source": [
    "V = eig_vec\n",
    "L = np.diag(eig_vals)\n",
    "print(\"分解したものを計算: \\n\", V.dot(L.dot(np.linalg.inv(V))))\n",
    "print(\"元の共分散行列: \\n\", np.array([[100, -25*math.sqrt(3)], [-25*math.sqrt(3), 50]]))"
   ]
  },
  {
   "cell_type": "markdown",
   "metadata": {},
   "source": [
    "ここで$V$を回転行列としてみることができる。\n",
    "$$\n",
    "    R_\\theta = \\left(\\begin{array}{rr}\n",
    "    cos\\theta \\quad -sin\\theta \\\\\n",
    "    sin\\theta \\quad cos\\theta \\\\\n",
    "    \\end{array}\\right)\n",
    "$$\n",
    "であるので、\n",
    "$$\n",
    "    \\Sigma = R_{-\\pi /6} L R^-1_{-\\pi/6}\n",
    "$$\n",
    "と表すことができる。\n",
    "回転行列には、\n",
    "$$\n",
    "    R^-1_\\theta = R_{-\\theta} = R^\\mathrm{T}_\\theta\n",
    "$$\n",
    "という性質がある。\n",
    "\n",
    "なぜ共分散行列の両側を回転行列で挟むと分布が回転するのか？\n",
    "共分散行列\n",
    "$$\n",
    "    \\Sigma = R_\\theta L R^{-1}_\\theta\n",
    "$$\n",
    "の逆行列は\n",
    "$$\n",
    "    \\Sigma^{-1} = R_\\theta L^{-1} R^{-1}_\\theta\n",
    "$$\n",
    "となる。\n",
    "ガウス分布の確率密度関数は\n",
    "$$\n",
    "    p(x) = \\frac{1}{(2\\pi)^{\\frac{n}{2}}\\sqrt{|\\Sigma|}} \\mathrm{exp} \\left\\{ - \\frac{1}{2}(x-\\mu)^\\mathrm{T}\\Sigma^{-1}(x-\\mu)\\right\\}\n",
    "$$\n",
    "ここに当てはめると、\n",
    "$$\n",
    "    p(x) = \\frac{1}{(2\\pi)^{\\frac{n}{2}}\\sqrt{|R_\\theta L R^{-1}_\\theta|}} \\mathrm{exp} \\left\\{ - \\frac{1}{2}(x-\\mu)^\\mathrm{T}R_\\theta L^{-1} R^{-1}_\\theta(x-\\mu)\\right\\}\n",
    "$$\n",
    "となる。\n",
    "行列式の性質から\n",
    "$$\n",
    "    |R_\\theta L R^{-1}_{\\theta}| = |R_\\theta| |L| |R^{-1}_\\theta| = L\n",
    "$$\n",
    "となる。\n",
    "また\n",
    "$$\n",
    "    x' = R^{-1}_\\theta(x-\\mu)\n",
    "$$\n",
    "とすると、転置の性質より、\n",
    "$$\n",
    "    x'^T = (x-\\mu)^\\mathrm{T}(R^{-1}_\\theta)^\\mathrm{T} = (x-\\mu)^\\mathrm{T}R_\\theta\n",
    "$$\n",
    "となり、ガウス分布の式は\n",
    "$$\n",
    "    p(x') = \\frac{1}{(2\\pi)^{\\frac{n}{2}}\\sqrt{|L|}} \\mathrm{exp} \\left\\{ - \\frac{1}{2}x'^\\mathrm{T} L^{-1} x'\\right\\}\n",
    "$$\n",
    "と変換できる。\n",
    "２次元のガウス分布はしばしば誤差楕円として描画される。\n",
    "誤差楕円は、等高線の内側を積分したときに0.99などキリの良い値になるもの、あるいは長軸と短軸の固有ベクトルを何倍かしたものから選ばれる。"
   ]
  },
  {
   "cell_type": "markdown",
   "metadata": {},
   "source": [
    "## 変数の和に対するガウス分布の合成\n",
    "\n",
    "変数$x_1$, $x_2$がそれぞれガウス分布に従って生成されるとき、\n",
    "$x_3 = x_1+ x_2$のばらつきがどのような分布になるか。\n",
    "$$\n",
    "    p_1(x_1) = N(x_1|\\mu_1, \\Sigma_1) \\\\\n",
    "    p_2(x_2) = N(x_2|\\mu_2, \\Sigma_2)\n",
    "$$\n",
    "とすると、\n",
    "$$\n",
    "    \\begin{align}\n",
    "    p_3(x_3) &= [p_2(x_3 - x_1)p_1(x_1)]_{x_1} \\\\\n",
    "    &= N(x_3| \\mu_1 + \\mu_2, \\Sigma_1 + \\Sigma_2)\n",
    "    \\end{align}\n",
    "$$\n",
    "となり、$x_3$の分布の平均値は、$x_1, x_2$の分布の平均値を足し合わせたものになり、\n",
    "共分散行列も$x_1, x_2$の分布の共分散行列を足し合わせたものになる。\n",
    "\n",
    "## ガウス分布同士の積\n",
    "\n",
    "ガウス分布同士の積では\n",
    "共分散行列は\n",
    "$$\n",
    "    \\Sigma_3 = (\\Sigma_1^{-1} + \\Sigma_2^{-1})^{-1}\n",
    "$$\n",
    "となり、この式を精度行列(共分散行列の逆行列)で考えると、\n",
    "$$\n",
    "    \\Lambda_3 = \\Lambda_1 + \\Lambda_2\n",
    "$$\n",
    "という単純な足し算となる。\n",
    "また\n",
    "平均値は、\n",
    "$$\n",
    "    \\begin{align}\n",
    "    \\mu_3 &= \\Sigma(\\Sigma_1^{-1}\\mu_1 + \\Sigma_2^{-1}\\mu_2) \\\\\n",
    "    &= (\\Sigma_1^{-1} + \\Sigma_2^{-1})^{-1}(\\Sigma_1^{-1}\\mu_1 + \\Sigma_2^{-1}\\mu_2) \\\\\n",
    "    &= (\\Lambda_1 + \\Lambda_2)^{-1}(\\Lambda_1\\mu_1 + \\Lambda_2\\mu_2)\n",
    "    \\end{align}\n",
    "$$\n",
    "となり、$\\mu_1$と$\\mu_2$を精度で重み付き平均したものになっている。\n",
    "新たな中心は精度の大きい方よりにできる。"
   ]
  },
  {
   "cell_type": "markdown",
   "metadata": {},
   "source": [
    "### 問題2.1"
   ]
  },
  {
   "cell_type": "code",
   "execution_count": 26,
   "metadata": {},
   "outputs": [
    {
     "name": "stdout",
     "output_type": "stream",
     "text": [
      "58988\n"
     ]
    }
   ],
   "source": [
    "import random\n",
    "zs = data[\"lidar\"].values\n",
    "print(len(zs))\n",
    "def sampling():\n",
    "    i = random.randrange(len(zs))\n",
    "    return zs[i]"
   ]
  },
  {
   "cell_type": "markdown",
   "metadata": {},
   "source": [
    "a."
   ]
  },
  {
   "cell_type": "code",
   "execution_count": 104,
   "metadata": {},
   "outputs": [],
   "source": [
    "def sampling3():\n",
    "    d = []\n",
    "    for i in range(3):\n",
    "        d.append(sampling())\n",
    "    mean = sum(d) / len(d)\n",
    "    diff_square = [(z - mean)**2 for z in d]\n",
    "    # 標本分散\n",
    "    sampling_var = sum(diff_square) / len(d)\n",
    "    return sampling_var"
   ]
  },
  {
   "cell_type": "markdown",
   "metadata": {},
   "source": [
    "b."
   ]
  },
  {
   "cell_type": "code",
   "execution_count": 112,
   "metadata": {},
   "outputs": [
    {
     "name": "stdout",
     "output_type": "stream",
     "text": [
      "15.834911111111124\n"
     ]
    }
   ],
   "source": [
    "d = []\n",
    "for i in range(10000):\n",
    "    d.append(sampling3())\n",
    "mean = sum(d) / len(d)\n",
    "print(mean)"
   ]
  },
  {
   "cell_type": "markdown",
   "metadata": {},
   "source": [
    "c."
   ]
  },
  {
   "cell_type": "code",
   "execution_count": 105,
   "metadata": {},
   "outputs": [],
   "source": [
    "def unbiased_sampling3():\n",
    "    d = []\n",
    "    for i in range(3):\n",
    "        d.append(sampling())\n",
    "\n",
    "    mean = sum(d) / len(d)\n",
    "    diff_square = [(z - mean)**2 for z in d]\n",
    "    # 標本分散\n",
    "    unbiased_var = sum(diff_square) / (len(d)-1)\n",
    "    return unbiased_var"
   ]
  },
  {
   "cell_type": "code",
   "execution_count": 113,
   "metadata": {},
   "outputs": [
    {
     "name": "stdout",
     "output_type": "stream",
     "text": [
      "23.229500000001984\n"
     ]
    }
   ],
   "source": [
    "d = []\n",
    "for i in range(10000):\n",
    "    d.append(unbiased_sampling3())\n",
    "\n",
    "mean = sum(d) / len(d)\n",
    "print(mean)"
   ]
  },
  {
   "cell_type": "code",
   "execution_count": 119,
   "metadata": {},
   "outputs": [
    {
     "name": "stdout",
     "output_type": "stream",
     "text": [
      "15.253333333333236\n"
     ]
    }
   ],
   "source": [
    "d = []\n",
    "for i in range(1000):\n",
    "    d.append(sampling3())\n",
    "mean = sum(d) / len(d)\n",
    "print(mean)"
   ]
  },
  {
   "cell_type": "code",
   "execution_count": 121,
   "metadata": {},
   "outputs": [
    {
     "name": "stdout",
     "output_type": "stream",
     "text": [
      "23.581666666666525\n"
     ]
    }
   ],
   "source": [
    "d = []\n",
    "for i in range(1000):\n",
    "    d.append(unbiased_sampling3())\n",
    "\n",
    "mean = sum(d) / len(d)\n",
    "print(mean)"
   ]
  },
  {
   "cell_type": "markdown",
   "metadata": {},
   "source": [
    "標準分散はデータ数を1万程度とったとしても、正確な値から程遠いが、不偏分散はデータ数が少なく(1000程度)とも真の分散に近い値を算出することができる。"
   ]
  },
  {
   "cell_type": "markdown",
   "metadata": {},
   "source": [
    "### 問題2.2"
   ]
  },
  {
   "cell_type": "code",
   "execution_count": 130,
   "metadata": {},
   "outputs": [
    {
     "data": {
      "text/plain": [
       "<matplotlib.axes._subplots.AxesSubplot at 0x115e18390>"
      ]
     },
     "execution_count": 130,
     "metadata": {},
     "output_type": "execute_result"
    },
    {
     "data": {
      "image/png": "[encoded data removed]",
      "text/plain": [
       "<Figure size 432x288 with 1 Axes>"
      ]
     },
     "metadata": {
      "needs_background": "light"
     },
     "output_type": "display_data"
    }
   ],
   "source": [
    "def dice():\n",
    "    return random.randrange(6)+1\n",
    "samples=[]\n",
    "for _ in range(10000):\n",
    "    total = 200\n",
    "    for i in range(10):\n",
    "        total = total + dice()\n",
    "    samples.append(total)\n",
    "simulated = pd.DataFrame(samples, columns=[\"lidar\"])\n",
    "p = simulated[\"lidar\"]\n",
    "p.hist(bins=max(p)-min(p), color=\"orange\", align=\"left\")"
   ]
  },
  {
   "cell_type": "markdown",
   "metadata": {},
   "source": [
    "### 問題2.3"
   ]
  },
  {
   "cell_type": "code",
   "execution_count": null,
   "metadata": {},
   "outputs": [],
   "source": []
  }
 ],
 "metadata": {
  "kernelspec": {
   "display_name": "Python 3",
   "language": "python",
   "name": "python3"
  },
  "language_info": {
   "codemirror_mode": {
    "name": "ipython",
    "version": 3
   },
   "file_extension": ".py",
   "mimetype": "text/x-python",
   "name": "python",
   "nbconvert_exporter": "python",
   "pygments_lexer": "ipython3",
   "version": "3.7.7"
  }
 },
 "nbformat": 4,
 "nbformat_minor": 4
}
